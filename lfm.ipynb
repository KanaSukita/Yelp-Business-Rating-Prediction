{
 "cells": [
  {
   "cell_type": "code",
   "execution_count": 146,
   "metadata": {},
   "outputs": [],
   "source": [
    "import numpy\n",
    "import gzip\n",
    "from collections import defaultdict\n",
    "import scipy.optimize\n",
    "import random\n",
    "from math import exp\n",
    "from math import log\n",
    "from sklearn import svm"
   ]
  },
  {
   "cell_type": "code",
   "execution_count": 147,
   "metadata": {},
   "outputs": [],
   "source": [
    "def parseData(fname):\n",
    "    for l in open(fname):\n",
    "        yield eval(l)"
   ]
  },
  {
   "cell_type": "code",
   "execution_count": 148,
   "metadata": {},
   "outputs": [
    {
     "name": "stdout",
     "output_type": "stream",
     "text": [
      "Reading data...\n",
      "done\n"
     ]
    }
   ],
   "source": [
    "print(\"Reading data...\")\n",
    "data = list(parseData(\"yelp_training_set_review.json\"))\n",
    "print(\"done\")"
   ]
  },
  {
   "cell_type": "code",
   "execution_count": 149,
   "metadata": {},
   "outputs": [],
   "source": [
    "train_data = []\n",
    "valid_data = []\n",
    "test_data = []"
   ]
  },
  {
   "cell_type": "code",
   "execution_count": 150,
   "metadata": {},
   "outputs": [],
   "source": [
    "count = 0\n",
    "train_length = 100000\n",
    "valid_length = 100000"
   ]
  },
  {
   "cell_type": "code",
   "execution_count": 151,
   "metadata": {},
   "outputs": [],
   "source": [
    "### Method 1 ###\n",
    "userStars = defaultdict(dict)\n",
    "itemStars = defaultdict(dict)\n",
    "beta_u = defaultdict(float)\n",
    "beta_i = defaultdict(float)"
   ]
  },
  {
   "cell_type": "code",
   "execution_count": 152,
   "metadata": {},
   "outputs": [],
   "source": [
    "for l in data:\n",
    "    user,item = l['user_id'],l['business_id']\n",
    "    if count < train_length:\n",
    "        # rating_train.append(l['rating'])\n",
    "        train_data.append(l)\n",
    "        userStars[user][item] = l['stars']\n",
    "        itemStars[item][user] = l['stars']\n",
    "        beta_u[user] = 0.0\n",
    "        beta_i[item] = 0.0\n",
    "    elif count < train_length + valid_length:\n",
    "        # userRatings[user][item] = l['stars']\n",
    "        # itemRatings[item][user] = l['stars']\n",
    "        valid_data.append(l)\n",
    "    else:\n",
    "        test_data.append(l)\n",
    "    count += 1"
   ]
  },
  {
   "cell_type": "code",
   "execution_count": 153,
   "metadata": {},
   "outputs": [
    {
     "name": "stdout",
     "output_type": "stream",
     "text": [
      "3.76949\n"
     ]
    }
   ],
   "source": [
    "alpha = 0    \n",
    "for l in train_data:\n",
    "    alpha += l['stars']\n",
    "alpha = alpha / 100000\n",
    "print(alpha)"
   ]
  },
  {
   "cell_type": "code",
   "execution_count": 154,
   "metadata": {},
   "outputs": [],
   "source": [
    "MSE=[]\n",
    "alpha = 0\n",
    "lamda = 1\n",
    "for iteration in range(1000):\n",
    "    original_alpha = alpha\n",
    "    # print(\"original_alpha = \",original_alpha)\n",
    "    total = 0\n",
    "    for u in userStars:\n",
    "        for i in userStars[u]:\n",
    "            temp = userStars[u][i] - (beta_u[u] + beta_i[i])\n",
    "            total += temp\n",
    "    alpha = total / 100000\n",
    "\n",
    "    #print(\"iteration\",iteration,\"alpha = \",alpha)\n",
    "    diff = abs(original_alpha-alpha)\n",
    "    if diff < 1e-100:\n",
    "        break\n",
    "\n",
    "    for u in userStars:\n",
    "        total = 0\n",
    "        for i in userStars[u]:\n",
    "            total += userStars[u][i] - alpha - beta_i[i]\n",
    "        beta_u[u] = total / (lamda + len(userStars[u].keys()))\n",
    "\n",
    "    for i in itemStars:\n",
    "        total = 0\n",
    "        for u in itemStars[i]:\n",
    "            total += itemStars[i][u] - alpha - beta_u[u]\n",
    "        beta_i[i] = total/(lamda+len(itemStars[i].keys()))"
   ]
  },
  {
   "cell_type": "code",
   "execution_count": 155,
   "metadata": {},
   "outputs": [],
   "source": [
    "beta_u_avg = 0\n",
    "for u in beta_u:\n",
    "    beta_u_avg += beta_u[u]\n",
    "beta_u_avg /= len(beta_u)\n",
    "\n",
    "beta_i_avg = 0\n",
    "for i in beta_i:\n",
    "    beta_i_avg += beta_i[i]\n",
    "beta_i_avg /= len(beta_i)"
   ]
  },
  {
   "cell_type": "code",
   "execution_count": 156,
   "metadata": {},
   "outputs": [
    {
     "name": "stdout",
     "output_type": "stream",
     "text": [
      "lamda= 1 MSE= 1.318901871653231\n"
     ]
    }
   ],
   "source": [
    "total = 0\n",
    "for l in valid_data:\n",
    "    if l['user_id'] not in beta_u:\n",
    "        beta_u[l['user_id']] = beta_u_avg\n",
    "    if l['business_id'] not in beta_i:\n",
    "        beta_i[l['business_id']] = beta_u_avg\n",
    "        \n",
    "    total += (l['stars'] - (alpha + beta_u[l['user_id']] + beta_i[l['business_id']])) ** 2\n",
    "mse = total / 100000\n",
    "print(\"lamda=\",lamda,\"MSE=\", mse)"
   ]
  },
  {
   "cell_type": "code",
   "execution_count": 189,
   "metadata": {},
   "outputs": [],
   "source": [
    "### Method 2###\n",
    "R_ui_train = {}\n",
    "R_ui_valid = {}\n",
    "R_ui_test = {}\n",
    "beta_u = {}\n",
    "beta_i = {}\n",
    "I_u = defaultdict(list)\n",
    "U_i = defaultdict(list)"
   ]
  },
  {
   "cell_type": "code",
   "execution_count": 190,
   "metadata": {},
   "outputs": [],
   "source": [
    "count = 0\n",
    "for l in data:\n",
    "    user,item = l['user_id'],l['business_id']\n",
    "    if count < train_length:\n",
    "        r = l['stars']\n",
    "        R_ui_train[(user,item)] = r\n",
    "        if not (user in beta_u):\n",
    "            beta_u[user] = 0.0\n",
    "        beta_u[user] += r\n",
    "        if not (item in beta_i):\n",
    "            beta_i[item] = 0.0\n",
    "        beta_i[item] += r\n",
    "        I_u[user].append(item)\n",
    "        U_i[item].append(user)\n",
    "    elif count < train_length + valid_length:\n",
    "        R_ui_valid[(user,item)] = l['stars']\n",
    "    else:\n",
    "        R_ui_test[(user,item)] = l['stars']\n",
    "    count += 1"
   ]
  },
  {
   "cell_type": "code",
   "execution_count": 191,
   "metadata": {},
   "outputs": [
    {
     "name": "stdout",
     "output_type": "stream",
     "text": [
      "3.76949\n"
     ]
    }
   ],
   "source": [
    "alpha = 0    \n",
    "for l in train_data:\n",
    "    alpha += l['stars']\n",
    "alpha = alpha / train_length\n",
    "print(alpha)\n",
    "for user in beta_u:\n",
    "    beta_u[user] = beta_u[user]*1.0/len(I_u[user]) - alpha\n",
    "    \n",
    "for item in beta_i:\n",
    "    beta_i[item] = beta_i[item]*1.0/len(U_i[item]) - alpha "
   ]
  },
  {
   "cell_type": "code",
   "execution_count": 160,
   "metadata": {},
   "outputs": [],
   "source": [
    "def inner(x,y):\n",
    "    return sum([x[i]*y[i] for i in range(len(x))])"
   ]
  },
  {
   "cell_type": "code",
   "execution_count": 161,
   "metadata": {},
   "outputs": [],
   "source": [
    "def gradient(R_ui, alpha, beta_u, beta_i, gamma_u, gamma_i, I_u, U_i, k, lamda):\n",
    "    d_alpha = 0.0\n",
    "    d_beta_u = {}\n",
    "    d_beta_i = {}\n",
    "    d_gamma_u = defaultdict(list)\n",
    "    d_gamma_i = defaultdict(list)\n",
    "    \n",
    "    for (u,i) in R_ui:\n",
    "        d_alpha += (alpha+beta_u[u]+beta_i[i]+inner(gamma_u[u],gamma_i[i])-R_ui[(u,i)])\n",
    "    for u in beta_u:\n",
    "        for i in I_u[u]:\n",
    "            if not (u in d_beta_u):\n",
    "                d_beta_u[u] = 0.0\n",
    "            d_beta_u[u] += 2*(alpha+beta_u[u]+beta_i[i]+inner(gamma_u[u],gamma_i[i])-R_ui[(u,i)])\n",
    "        d_beta_u[u] += lamda*2*beta_u[u]\n",
    "    for i in beta_i:\n",
    "        for u in U_i[i]:\n",
    "            if not (i in d_beta_i):\n",
    "                d_beta_i[i] = 0.0\n",
    "            d_beta_i[i] += 2*(alpha+beta_u[u]+beta_i[i]+inner(gamma_u[u],gamma_i[i])-R_ui[(u,i)])\n",
    "        d_beta_i[i] += lamda*2*beta_i[i]\n",
    "    for u in gamma_u:\n",
    "        for index in range(k):\n",
    "            tmp = 0\n",
    "            for i in I_u[u]:\n",
    "                tmp += 2*gamma_i[i][index]*(alpha+beta_u[u]+beta_i[i]+inner(gamma_u[u],gamma_i[i])-R_ui[(u,i)])\n",
    "            tmp += lamda*2*gamma_u[u][index]\n",
    "            d_gamma_u[u].append(tmp)\n",
    "    for i in gamma_i:\n",
    "        for index in range(k):\n",
    "            tmp = 0\n",
    "            for u in U_i[i]:\n",
    "                tmp += 2*gamma_u[u][index]*(alpha+beta_u[u]+beta_i[i]+inner(gamma_u[u],gamma_i[i])-R_ui[(u,i)])\n",
    "            tmp += lamda*2*gamma_i[i][index]\n",
    "            d_gamma_i[i].append(tmp)\n",
    "    return (d_alpha, d_beta_u, d_beta_i, d_gamma_u, d_gamma_i)"
   ]
  },
  {
   "cell_type": "code",
   "execution_count": 162,
   "metadata": {},
   "outputs": [],
   "source": [
    "def loss(R_ui, alpha, beta_u, beta_i, gamma_u, gamma_i, lam):\n",
    "    error = 0\n",
    "    for (u,i) in R_ui:\n",
    "        error += (alpha+beta_u[u]+beta_i[i]+inner(gamma_u[u],gamma_i[i])-R_ui[(u,i)])**2\n",
    "    regular = 0\n",
    "    for u in beta_u:\n",
    "        regular += beta_u[u]**2\n",
    "    for i in beta_i:\n",
    "        regular += beta_i[i]**2\n",
    "    for u in gamma_u:\n",
    "        regular += inner(gamma_u[u],gamma_u[u])\n",
    "    for i in gamma_i:\n",
    "        regular += inner(gamma_i[i],gamma_i[i])\n",
    "    error += lam*regular\n",
    "    \n",
    "    return error"
   ]
  },
  {
   "cell_type": "code",
   "execution_count": 163,
   "metadata": {},
   "outputs": [],
   "source": [
    "def update_vec(list1, list2, lr):\n",
    "    new_list = list(list1)\n",
    "    for index in range(len(new_list)):\n",
    "        new_list[index] -= lr*list2[index]\n",
    "    return new_list"
   ]
  },
  {
   "cell_type": "code",
   "execution_count": 164,
   "metadata": {},
   "outputs": [],
   "source": [
    "def train_lfm(R_ui, alpha, beta_u, beta_i, gamma_u, gamma_i, I_u, U_i, k, lam, lr_alpha, lr, T):\n",
    "    count = 0\n",
    "    old_error = 0\n",
    "    lr0 = lr\n",
    "    lr_alpha0 = lr_alpha\n",
    "    while count < T:\n",
    "        lr = lr0*1.0/(1+count*1.0/T)\n",
    "        lr_alpha = lr_alpha*1.0/(1+count*1.0/T)\n",
    "        error = loss(R_ui, alpha, beta_u, beta_i, gamma_u, gamma_i, lam)\n",
    "        \n",
    "        if (count > 0 and error >= old_error) or abs(error - old_error) < 1:\n",
    "            break\n",
    "       \n",
    "        dl = gradient(R_ui, alpha, beta_u, beta_i, gamma_u, gamma_i, I_u, U_i, k, lam)\n",
    "        \n",
    "        prev_alpha = alpha\n",
    "        prev_beta_u = beta_u\n",
    "        prev_beta_i = beta_i\n",
    "        prev_gamma_u = gamma_u\n",
    "        prev_gamma_i = gamma_i\n",
    "        \n",
    "        beta_u = {}\n",
    "        beta_i = {}\n",
    "        gamma_u = defaultdict(list)\n",
    "        gamma_i = defaultdict(list)\n",
    "        alpha = prev_alpha - lr_alpha * dl[0]\n",
    "        for u in prev_beta_u:\n",
    "            beta_u[u] = prev_beta_u[u] - lr * dl[1][u]\n",
    "            gamma_u[u] = update_vec(prev_gamma_u[u], dl[3][u], lr)\n",
    "        for i in prev_beta_i:\n",
    "            beta_i[i] = prev_beta_i[i] - lr * dl[2][i]\n",
    "            gamma_i[i] = update_vec(prev_gamma_i[i], dl[4][i], lr)\n",
    "        \n",
    "        old_error = error\n",
    "        #if (count%10) == 0:\n",
    "        print(\"iteration: \", count, \"; error: \", old_error)\n",
    "        count += 1\n",
    "        \n",
    "    print(\"iteration: \", count, \"; error: \", old_error)\n",
    "    return (prev_alpha,prev_beta_u,prev_beta_i,prev_gamma_u,prev_gamma_i)"
   ]
  },
  {
   "cell_type": "code",
   "execution_count": 165,
   "metadata": {},
   "outputs": [],
   "source": [
    "def predict(R_ui_validate, alpha, beta_u, beta_i, gamma_u, gamma_i):\n",
    "    R_ui = {}\n",
    "    for (u,i) in R_ui_validate:\n",
    "        p = alpha\n",
    "        if u in beta_u:\n",
    "            p += beta_u[u]\n",
    "        if i in beta_i:\n",
    "            p += beta_i[i]\n",
    "        if u in gamma_u and i in gamma_i:\n",
    "            p += inner(gamma_u[u],gamma_i[i])\n",
    "        p = max(p, 0.0)\n",
    "        p = min(p, 5.0)\n",
    "        R_ui[(u,i)] = round(p)\n",
    "    return R_ui\n",
    "\n",
    "def mse(R_ui_validate, alpha, beta_u, beta_i, gamma_u, gamma_i):\n",
    "    R_ui = predict(R_ui_validate, alpha, beta_u, beta_i, gamma_u, gamma_i)\n",
    "    res = 0\n",
    "    for (u,i) in R_ui_validate:\n",
    "        res += (R_ui[(u,i)]-R_ui_validate[(u,i)])**2\n",
    "    return res*1.0/len(R_ui_validate)"
   ]
  },
  {
   "cell_type": "code",
   "execution_count": 233,
   "metadata": {},
   "outputs": [],
   "source": [
    "k = 5\n",
    "gamma_u = defaultdict(list)\n",
    "gamma_i = defaultdict(list)\n",
    "for u in beta_u:\n",
    "    for index in range(k):\n",
    "        gamma_u[u].append(random.random()*0.01)\n",
    "for i in beta_i:\n",
    "    for index in range(k):\n",
    "        gamma_i[i].append(random.random()*0.01)"
   ]
  },
  {
   "cell_type": "code",
   "execution_count": 167,
   "metadata": {},
   "outputs": [
    {
     "name": "stdout",
     "output_type": "stream",
     "text": [
      "iteration:  0 ; error:  132956.99396670598\n",
      "iteration:  1 ; error:  131508.9189998577\n",
      "iteration:  2 ; error:  131508.9189998577\n"
     ]
    }
   ],
   "source": [
    "theta = train_lfm(R_ui_train, alpha, beta_u, beta_i, gamma_u, gamma_i, I_u, U_i, k, 1.0, 0.001, 0.001, 100)"
   ]
  },
  {
   "cell_type": "code",
   "execution_count": 168,
   "metadata": {},
   "outputs": [
    {
     "name": "stdout",
     "output_type": "stream",
     "text": [
      "1.63706\n"
     ]
    }
   ],
   "source": [
    "print(mse(R_ui_valid, theta[0], theta[1], theta[2], theta[3], theta[4]))"
   ]
  },
  {
   "cell_type": "code",
   "execution_count": 169,
   "metadata": {},
   "outputs": [
    {
     "name": "stdout",
     "output_type": "stream",
     "text": [
      "1.6661316748587287\n"
     ]
    }
   ],
   "source": [
    "print(mse(R_ui_test, theta[0], theta[1], theta[2], theta[3], theta[4]))"
   ]
  },
  {
   "cell_type": "code",
   "execution_count": 170,
   "metadata": {},
   "outputs": [
    {
     "name": "stdout",
     "output_type": "stream",
     "text": [
      "0.77445\n"
     ]
    }
   ],
   "source": [
    "print(mse(R_ui_train, theta[0], theta[1], theta[2], theta[3], theta[4]))"
   ]
  },
  {
   "cell_type": "code",
   "execution_count": 228,
   "metadata": {},
   "outputs": [],
   "source": [
    "def lfm_sgd(R_ui, alpha, beta_u, beta_i, gamma_u, gamma_i, I_u, U_i, k, lam, lr, T):\n",
    "    count = 0\n",
    "    old_error = 0\n",
    "    #lr0 = lr\n",
    "    #lr_alpha0 = lr_alpha\n",
    "    while count < 1:\n",
    "        error = loss(R_ui, alpha, beta_u, beta_i, gamma_u, gamma_i, lam)\n",
    "        if (count > 0 and error >= old_error) or abs(error - old_error) < 1:\n",
    "            break\n",
    "        \n",
    "        prev_alpha = alpha\n",
    "        prev_beta_u = beta_u\n",
    "        prev_beta_i = beta_i\n",
    "        prev_gamma_u = gamma_u\n",
    "        prev_gamma_i = gamma_i\n",
    "        \n",
    "        for (u,i) in R_ui:\n",
    "            diff = R_ui[(u,i)] - (alpha+beta_u[u]+beta_i[i]+inner(gamma_u[u],gamma_i[i]))\n",
    "            \n",
    "            alpha = prev_alpha - lr * diff * prev_alpha\n",
    "            beta_u[u] = prev_beta_u[u] - lr * diff * prev_beta_u[u]\n",
    "            beta_i[i] = prev_beta_i[i] - lr * diff * prev_beta_i[i]\n",
    "            gamma_u[u] = update_vec(prev_gamma_u[u], prev_gamma_u[u], lr * diff)\n",
    "            gamma_i[i] = update_vec(prev_gamma_i[i], prev_gamma_i[i], lr * diff)\n",
    "            \n",
    "        error = loss(R_ui, alpha, beta_u, beta_i, gamma_u, gamma_i, lam)\n",
    "        old_error = error\n",
    "        #if (count%10) == 0:\n",
    "        print(\"iteration: \", count, \"; error: \", old_error)\n",
    "        count += 1\n",
    "        \n",
    "    print(\"iteration: \", count, \"; error: \", old_error)\n",
    "    return (alpha, beta_u, beta_i, gamma_u, gamma_i)"
   ]
  },
  {
   "cell_type": "code",
   "execution_count": 235,
   "metadata": {},
   "outputs": [
    {
     "name": "stdout",
     "output_type": "stream",
     "text": [
      "iteration:  0 ; error:  132756.5088088226\n",
      "iteration:  1 ; error:  132756.5088088226\n"
     ]
    }
   ],
   "source": [
    "theta = lfm_sgd(R_ui_train, alpha, beta_u, beta_i, gamma_u, gamma_i, I_u, U_i, k, 1.0, 0.001, 100)"
   ]
  },
  {
   "cell_type": "code",
   "execution_count": 236,
   "metadata": {},
   "outputs": [
    {
     "name": "stdout",
     "output_type": "stream",
     "text": [
      "1.63385\n"
     ]
    }
   ],
   "source": [
    "print(mse(R_ui_valid, theta[0], theta[1], theta[2], theta[3], theta[4]))"
   ]
  },
  {
   "cell_type": "code",
   "execution_count": 237,
   "metadata": {},
   "outputs": [
    {
     "name": "stdout",
     "output_type": "stream",
     "text": [
      "1.665663557026783\n"
     ]
    }
   ],
   "source": [
    "print(mse(R_ui_test, theta[0], theta[1], theta[2], theta[3], theta[4]))"
   ]
  },
  {
   "cell_type": "code",
   "execution_count": 238,
   "metadata": {},
   "outputs": [
    {
     "name": "stdout",
     "output_type": "stream",
     "text": [
      "0.77921\n"
     ]
    }
   ],
   "source": [
    "print(mse(R_ui_train, theta[0], theta[1], theta[2], theta[3], theta[4]))"
   ]
  },
  {
   "cell_type": "code",
   "execution_count": null,
   "metadata": {},
   "outputs": [],
   "source": []
  }
 ],
 "metadata": {
  "kernelspec": {
   "display_name": "Python 3",
   "language": "python",
   "name": "python3"
  },
  "language_info": {
   "codemirror_mode": {
    "name": "ipython",
    "version": 3
   },
   "file_extension": ".py",
   "mimetype": "text/x-python",
   "name": "python",
   "nbconvert_exporter": "python",
   "pygments_lexer": "ipython3",
   "version": "3.6.4"
  }
 },
 "nbformat": 4,
 "nbformat_minor": 2
}
