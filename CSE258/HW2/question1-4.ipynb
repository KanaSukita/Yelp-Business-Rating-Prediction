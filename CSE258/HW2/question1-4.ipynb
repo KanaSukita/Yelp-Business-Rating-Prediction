{
 "cells": [
  {
   "cell_type": "code",
   "execution_count": 39,
   "metadata": {
    "collapsed": false
   },
   "outputs": [],
   "source": [
    "import numpy\n",
    "import urllib\n",
    "import scipy.optimize\n",
    "import random\n",
    "from math import exp\n",
    "from math import log\n",
    "import csv\n",
    "from sklearn import svm\n",
    "import matplotlib.pyplot as plt\n"
   ]
  },
  {
   "cell_type": "code",
   "execution_count": 40,
   "metadata": {
    "collapsed": false
   },
   "outputs": [
    {
     "name": "stdout",
     "output_type": "stream",
     "text": [
      "Reading data...\n",
      "done\n"
     ]
    }
   ],
   "source": [
    "def parseData(fname):\n",
    "  for l in urllib.urlopen(fname):\n",
    "    yield eval(l)\n",
    "print \"Reading data...\"\n",
    "dataFile = open(\"winequality-white.csv\")\n",
    "header = dataFile.readline()\n",
    "fields = [\"constant\"] + header.strip().replace('\"','').split(';')\n",
    "featureNames = fields[:-1]\n",
    "labelName = fields[-1]\n",
    "lines = [[1.0] + [float(x) for x in l.split(';')] for l in dataFile]\n",
    "# randomly shuffle the data\n",
    "random.shuffle(lines)\n",
    "X = [l[:-1] for l in lines]\n",
    "y = [l[-1] > 5 for l in lines]\n",
    "print \"done\""
   ]
  },
  {
   "cell_type": "code",
   "execution_count": 41,
   "metadata": {
    "collapsed": false
   },
   "outputs": [],
   "source": [
    "def inner(x,y):\n",
    "  return sum([x[i]*y[i] for i in range(len(x))])"
   ]
  },
  {
   "cell_type": "code",
   "execution_count": 42,
   "metadata": {
    "collapsed": true
   },
   "outputs": [],
   "source": [
    "def sigmoid(x):\n",
    "  return 1.0 / (1 + exp(-x))"
   ]
  },
  {
   "cell_type": "code",
   "execution_count": 43,
   "metadata": {
    "collapsed": true
   },
   "outputs": [],
   "source": [
    "# NEGATIVE Log-likelihood\n",
    "def f(theta, X, y, lam):\n",
    "  loglikelihood = 0\n",
    "  for i in range(len(X)):\n",
    "    logit = inner(X[i], theta)\n",
    "    loglikelihood -= log(1 + exp(-logit))\n",
    "    if not y[i]:\n",
    "      loglikelihood -= logit\n",
    "  for k in range(len(theta)):\n",
    "    loglikelihood -= lam * theta[k]*theta[k]\n",
    "  # for debugging\n",
    "  # print \"ll =\", loglikelihood\n",
    "  return -loglikelihood"
   ]
  },
  {
   "cell_type": "code",
   "execution_count": 44,
   "metadata": {
    "collapsed": false
   },
   "outputs": [],
   "source": [
    "# NEGATIVE Derivative of log-likelihood\n",
    "def fprime(theta, X, y, lam):\n",
    "  dl = [0]*len(theta)\n",
    "  for i in range(len(X)):\n",
    "    logit = inner(X[i], theta)\n",
    "    for k in range(len(theta)):\n",
    "      dl[k] += X[i][k] * (1 - sigmoid(logit))\n",
    "      if not y[i]:\n",
    "        dl[k] -= X[i][k]\n",
    "  for k in range(len(theta)):\n",
    "    dl[k] -= lam*2*theta[k]\n",
    "  return numpy.array([-x for x in dl])"
   ]
  },
  {
   "cell_type": "code",
   "execution_count": 45,
   "metadata": {
    "collapsed": false
   },
   "outputs": [],
   "source": [
    "X_train = X[:int(len(X)/3)]\n",
    "y_train = y[:int(len(y)/3)]\n",
    "X_validate = X[int(len(X)/3):int(2*len(X)/3)]\n",
    "y_validate = y[int(len(y)/3):int(2*len(y)/3)]\n",
    "X_test = X[int(2*len(X)/3):]\n",
    "y_test = y[int(2*len(X)/3):]"
   ]
  },
  {
   "cell_type": "code",
   "execution_count": 46,
   "metadata": {
    "collapsed": false
   },
   "outputs": [],
   "source": [
    "# Train\n",
    "def train(lam):\n",
    "  theta,_,_ = scipy.optimize.fmin_l_bfgs_b(f, [0]*len(X[0]), fprime, pgtol = 10, args = (X_train, y_train, lam))\n",
    "  return theta"
   ]
  },
  {
   "cell_type": "code",
   "execution_count": 47,
   "metadata": {
    "collapsed": false
   },
   "outputs": [],
   "source": [
    "# Predict\n",
    "def performance(theta):\n",
    "  scores_train = [inner(theta,x) for x in X_train]\n",
    "  scores_validate = [inner(theta,x) for x in X_validate]\n",
    "  scores_test = [inner(theta,x) for x in X_test]\n",
    "\n",
    "  predictions_train = [s > 0 for s in scores_train]\n",
    "  predictions_validate = [s > 0 for s in scores_validate]\n",
    "  predictions_test = [s > 0 for s in scores_test]\n",
    "\n",
    "  correct_train = [(a==b) for (a,b) in zip(predictions_train,y_train)]\n",
    "  correct_validate = [(a==b) for (a,b) in zip(predictions_validate,y_validate)]\n",
    "  correct_test = [(a==b) for (a,b) in zip(predictions_test,y_test)]\n",
    "  \n",
    "  acc_train = sum(correct_train) * 1.0 / len(correct_train)\n",
    "  acc_validate = sum(correct_validate) * 1.0 / len(correct_validate)\n",
    "  acc_test = sum(correct_test) * 1.0 / len(correct_test)\n",
    "  return acc_train, acc_validate, acc_test\n"
   ]
  },
  {
   "cell_type": "code",
   "execution_count": 48,
   "metadata": {
    "collapsed": false,
    "scrolled": true
   },
   "outputs": [
    {
     "name": "stdout",
     "output_type": "stream",
     "text": [
      "lambda = 0;\ttrain=0.749387254902; validate=0.735456215554; test=0.742804654011\n",
      "lambda = 0.01;\ttrain=0.749387254902; validate=0.735456215554; test=0.742804654011\n",
      "lambda = 1.0;\ttrain=0.727941176471; validate=0.719534598898; test=0.726270667483\n",
      "lambda = 100.0;\ttrain=0.65625; validate=0.658909981629; test=0.680342927128\n"
     ]
    }
   ],
   "source": [
    "# Validation pipeline\n",
    "for lam in [0, 0.01, 1.0, 100.0]:\n",
    "  theta = train(lam)\n",
    "  acc_train, acc_validate, acc_test = performance(theta)\n",
    "  print(\"lambda = \" + str(lam) + \";\\ttrain=\" + str(acc_train) + \"; validate=\" + str(acc_validate) + \"; test=\" + str(acc_test))"
   ]
  },
  {
   "cell_type": "code",
   "execution_count": 25,
   "metadata": {
    "collapsed": true
   },
   "outputs": [],
   "source": [
    "# Predict\n",
    "def otherperformance(theta):\n",
    "  scores_test = [inner(theta,x) for x in X_test]\n",
    "  predictions_test = [s > 0 for s in scores_test]\n",
    "    \n",
    "  label_positive = sum(y_test)\n",
    "  label_negative = len(y_test) - label_positive\n",
    "  true_positive = sum([(a==1 and b==1) for (a,b) in zip(predictions_test,y_test)])\n",
    "  true_negative = sum([(a==0 and b==0) for (a,b) in zip(predictions_test,y_test)])\n",
    "  false_positive = sum([(a==1 and b==0) for (a,b) in zip(predictions_test,y_test)])\n",
    "  false_negative = sum([(a==0 and b==1) for (a,b) in zip(predictions_test,y_test)])\n",
    "  BER = (false_negative*1.0/label_positive+false_positive*1.0/label_negative)/2\n",
    "  return true_positive, true_negative, false_positive, false_negative, BER"
   ]
  },
  {
   "cell_type": "code",
   "execution_count": 26,
   "metadata": {
    "collapsed": false
   },
   "outputs": [
    {
     "name": "stdout",
     "output_type": "stream",
     "text": [
      "true_positive =  1129\n",
      "true_negative =  145\n",
      "false_positive =  321\n",
      "false negative =  38\n",
      "Balanced Error Rate =  0.360701663412\n"
     ]
    }
   ],
   "source": [
    "# Other performances\n",
    "theta2 = train(0.01)\n",
    "true_positive, true_negative, false_positive, false_negative, BER = otherperformance(theta2)\n",
    "print \"true_positive = \", true_positive\n",
    "print \"true_negative = \", true_negative\n",
    "print \"false_positive = \", false_positive\n",
    "print \"false negative = \", false_negative\n",
    "print \"Balanced Error Rate = \", BER\n"
   ]
  },
  {
   "cell_type": "code",
   "execution_count": 27,
   "metadata": {
    "collapsed": true
   },
   "outputs": [],
   "source": [
    "scores_test = [inner(theta2,x) for x in X_test]\n",
    "predictions_test = [s > 0 for s in scores_test]\n",
    "relevant_documents = sum(y_test)\n",
    "confidence = [[scores_test[i],y_test[i]] for i in range(len(y_test))]"
   ]
  },
  {
   "cell_type": "code",
   "execution_count": 28,
   "metadata": {
    "collapsed": true
   },
   "outputs": [],
   "source": [
    "confidence.sort(key=lambda a:a[0], reverse = True)"
   ]
  },
  {
   "cell_type": "code",
   "execution_count": 29,
   "metadata": {
    "collapsed": true
   },
   "outputs": [],
   "source": [
    "def percentages(number):\n",
    "  relevant_retrieved=0\n",
    "  for l in range(number):\n",
    "    if confidence[l][0]*confidence[l][1] > 0:\n",
    "      relevant_retrieved+=1\n",
    "  precision = relevant_retrieved * 1.0 / number\n",
    "  recall = relevant_retrieved *1.0 / relevant_documents\n",
    "  return precision, recall"
   ]
  },
  {
   "cell_type": "code",
   "execution_count": 32,
   "metadata": {
    "collapsed": false
   },
   "outputs": [
    {
     "name": "stdout",
     "output_type": "stream",
     "text": [
      "When returning the top  10 predictions, Precision =  1.0 Recall =  0.00856898029135\n",
      "When returning the top  500 predictions, Precision =  0.956 Recall =  0.409597257926\n",
      "When returning the top  1000 predictions, Precision =  0.864 Recall =  0.740359897172\n"
     ]
    }
   ],
   "source": [
    "for number in [10, 500, 1000]:\n",
    "    precision, recall = percentages(number)\n",
    "    print \"When returning the top \", number, \"predictions, Precision = \", precision, \"Recall = \", recall"
   ]
  },
  {
   "cell_type": "code",
   "execution_count": 38,
   "metadata": {
    "collapsed": false
   },
   "outputs": [
    {
     "data": {
      "image/png": "[encoded data removed]",
      "text/plain": [
       "<matplotlib.figure.Figure at 0x11065a410>"
      ]
     },
     "metadata": {},
     "output_type": "display_data"
    },
    {
     "data": {
      "text/plain": [
       "<matplotlib.text.Text at 0x110665f50>"
      ]
     },
     "execution_count": 38,
     "metadata": {},
     "output_type": "execute_result"
    }
   ],
   "source": [
    "recall_set=[]\n",
    "precision_set=[]\n",
    "for number in range(1,len(y_test)):\n",
    "    precision, recall = percentages(number)\n",
    "    recall_set.append(recall)\n",
    "    precision_set.append(precision)\n",
    "plt.plot(recall_set,precision_set)\n",
    "plt.show()\n",
    "plt.xlabel(u'Recall')\n",
    "plt.ylabel(u'Precision')"
   ]
  },
  {
   "cell_type": "code",
   "execution_count": 18,
   "metadata": {
    "collapsed": false
   },
   "outputs": [],
   "source": []
  },
  {
   "cell_type": "code",
   "execution_count": null,
   "metadata": {
    "collapsed": false
   },
   "outputs": [],
   "source": []
  },
  {
   "cell_type": "code",
   "execution_count": null,
   "metadata": {
    "collapsed": false
   },
   "outputs": [],
   "source": [
    "\n"
   ]
  },
  {
   "cell_type": "code",
   "execution_count": null,
   "metadata": {
    "collapsed": false
   },
   "outputs": [],
   "source": []
  },
  {
   "cell_type": "code",
   "execution_count": null,
   "metadata": {
    "collapsed": false
   },
   "outputs": [],
   "source": []
  },
  {
   "cell_type": "code",
   "execution_count": null,
   "metadata": {
    "collapsed": false
   },
   "outputs": [],
   "source": []
  },
  {
   "cell_type": "code",
   "execution_count": null,
   "metadata": {
    "collapsed": false
   },
   "outputs": [],
   "source": []
  },
  {
   "cell_type": "code",
   "execution_count": null,
   "metadata": {
    "collapsed": false
   },
   "outputs": [],
   "source": []
  },
  {
   "cell_type": "code",
   "execution_count": null,
   "metadata": {
    "collapsed": true
   },
   "outputs": [],
   "source": []
  }
 ],
 "metadata": {
  "anaconda-cloud": {},
  "kernelspec": {
   "display_name": "Python [conda root]",
   "language": "python",
   "name": "conda-root-py"
  },
  "language_info": {
   "codemirror_mode": {
    "name": "ipython",
    "version": 2
   },
   "file_extension": ".py",
   "mimetype": "text/x-python",
   "name": "python",
   "nbconvert_exporter": "python",
   "pygments_lexer": "ipython2",
   "version": "2.7.12"
  }
 },
 "nbformat": 4,
 "nbformat_minor": 1
}
