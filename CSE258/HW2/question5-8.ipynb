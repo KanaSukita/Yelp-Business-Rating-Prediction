{
 "cells": [
  {
   "cell_type": "code",
   "execution_count": 14,
   "metadata": {
    "collapsed": true
   },
   "outputs": [],
   "source": [
    "import numpy\n",
    "import urllib\n",
    "import scipy.optimize\n",
    "import random\n",
    "from math import exp\n",
    "from math import log\n",
    "import csv\n",
    "from sklearn import svm\n",
    "import matplotlib.pyplot as plt\n",
    "from sklearn.decomposition import PCA\n"
   ]
  },
  {
   "cell_type": "code",
   "execution_count": 15,
   "metadata": {
    "collapsed": true
   },
   "outputs": [],
   "source": [
    "def parseData(fname):\n",
    "  for l in urllib.urlopen(fname):\n",
    "    yield eval(l)\n",
    "    "
   ]
  },
  {
   "cell_type": "code",
   "execution_count": 16,
   "metadata": {},
   "outputs": [
    {
     "name": "stdout",
     "output_type": "stream",
     "text": [
      "Reading data...\n",
      "done\n"
     ]
    }
   ],
   "source": [
    "print \"Reading data...\"\n",
    "csvfile = file('winequality-white.csv','rb')\n",
    "reader = csv.reader(csvfile)\n",
    "print \"done\"\n"
   ]
  },
  {
   "cell_type": "code",
   "execution_count": 17,
   "metadata": {
    "collapsed": true
   },
   "outputs": [],
   "source": [
    "data = []\n",
    "for line in reader:\n",
    "    data.append(line[0].split(';'))\n",
    "del data[0]\n"
   ]
  },
  {
   "cell_type": "code",
   "execution_count": 18,
   "metadata": {
    "collapsed": true
   },
   "outputs": [],
   "source": [
    "## Conversion from string to float\n",
    "for i in range(len(data)):\n",
    "    for j in range(len(data[i])):\n",
    "        data[i][j]=float(data[i][j])\n",
    "        "
   ]
  },
  {
   "cell_type": "code",
   "execution_count": null,
   "metadata": {
    "collapsed": true
   },
   "outputs": [],
   "source": [
    "\n"
   ]
  },
  {
   "cell_type": "code",
   "execution_count": 19,
   "metadata": {},
   "outputs": [],
   "source": [
    "## Obtain the quality\n",
    "N=12\n",
    "y=[x[N-1] for x in data]\n"
   ]
  },
  {
   "cell_type": "code",
   "execution_count": 20,
   "metadata": {},
   "outputs": [],
   "source": [
    "## Extract the features data\n",
    "for features in data:\n",
    "    del features[N-1]"
   ]
  },
  {
   "cell_type": "code",
   "execution_count": 21,
   "metadata": {
    "collapsed": true
   },
   "outputs": [],
   "source": [
    "X=data"
   ]
  },
  {
   "cell_type": "code",
   "execution_count": 22,
   "metadata": {},
   "outputs": [],
   "source": [
    "X_train = X[:int(len(X)/3)]\n",
    "y_train = y[:int(len(y)/3)]\n",
    "X_test = X[int(2*len(X)/3):]\n",
    "y_test = y[int(2*len(y)/3):]"
   ]
  },
  {
   "cell_type": "code",
   "execution_count": 23,
   "metadata": {},
   "outputs": [],
   "source": [
    "X_mean=[]\n",
    "for i in range(11):\n",
    "    X_temp =0\n",
    "    for j in range(len(X_train)):\n",
    "        X_temp+= X_train[j][i]\n",
    "    X_mean_temp = X_temp / len(X_train)\n",
    "    X_mean.append(X_mean_temp)"
   ]
  },
  {
   "cell_type": "code",
   "execution_count": 24,
   "metadata": {},
   "outputs": [
    {
     "name": "stdout",
     "output_type": "stream",
     "text": [
      "Reconstruction Error =  [[ 3675818.61687812]]\n"
     ]
    }
   ],
   "source": [
    "X_error=[[0] * 11 for row in range(len(X_train))]\n",
    "for i in range(11):\n",
    "    for j in range(len(X_train)):\n",
    "        X_error[j][i] = X_train[j][i] - X_mean[i]\n",
    "X_error = numpy.matrix(X_error)\n",
    "reconstruction_error = 0\n",
    "for j in range(len(X_train)):\n",
    "    reconstruction_error+= X_error[j]*X_error[j].T\n",
    "print \"Reconstruction Error = \",reconstruction_error\n"
   ]
  },
  {
   "cell_type": "code",
   "execution_count": 25,
   "metadata": {
    "scrolled": true
   },
   "outputs": [
    {
     "name": "stdout",
     "output_type": "stream",
     "text": [
      "[[  3.23636346e-04  -1.42201752e-04  -3.17030713e-04  -5.36390435e-02\n",
      "   -9.30284526e-05  -2.54030965e-01  -9.65655009e-01  -3.19990241e-05\n",
      "    2.95831396e-04  -3.84043646e-04   1.00526693e-02]\n",
      " [ -7.57985623e-03  -1.66366340e-03   1.04742899e-03   5.21677266e-02\n",
      "    4.49425600e-05   9.65020304e-01  -2.56793964e-01   7.90089050e-06\n",
      "    5.24900596e-04  -1.09699394e-03  -2.89827657e-03]\n",
      " [  1.82124420e-02   2.54680710e-03   3.31838657e-03   9.93221259e-01\n",
      "   -1.51888372e-04  -6.42297821e-02  -3.91682592e-02   4.30929482e-04\n",
      "   -6.93199060e-03  -2.85216045e-03  -8.62920933e-02]\n",
      " [ -1.56811999e-01  -3.28220652e-03  -1.66866136e-02  -8.28549640e-02\n",
      "    6.91822288e-03  -1.13029682e-03  -5.39110108e-03   9.49080503e-04\n",
      "   -2.68027305e-03  -1.30498102e-03  -9.83955205e-01]\n",
      " [ -9.81360642e-01   1.45890108e-02  -5.92643662e-02   3.17546064e-02\n",
      "   -5.07483182e-04  -8.43759364e-03   1.77578042e-03  -6.03725221e-04\n",
      "    9.05011239e-02   9.35630845e-03   1.54417839e-01]\n",
      " [ -7.76578401e-02   2.37665885e-01  -2.23406619e-02  -5.04113878e-03\n",
      "    1.43564098e-02   2.14210997e-04   2.22913844e-04  -3.36617054e-03\n",
      "   -8.77254205e-01  -4.08570175e-01   1.54145486e-02]\n",
      " [ -7.36289612e-02  -2.61563804e-01   9.43067566e-01  -2.14514264e-03\n",
      "    1.19104298e-02  -1.68808905e-03   1.42294158e-04  -1.17203197e-04\n",
      "   -1.45895558e-01   1.23868963e-01  -2.88797236e-03]\n",
      " [  1.37617196e-02  -2.11129619e-01   1.16514121e-01  -5.30670319e-04\n",
      "   -1.05181628e-02  -1.36446528e-03   8.21179429e-04  -3.09221855e-04\n",
      "    3.58358431e-01  -9.01728510e-01  -3.27758247e-03]\n",
      " [ -1.74575775e-02  -9.10890084e-01  -3.04081497e-01   2.89763923e-03\n",
      "   -2.34615054e-02  -1.17406025e-03   3.85957239e-04  -1.23176271e-03\n",
      "   -2.68927937e-01   6.70756658e-02   1.12101920e-02]\n",
      " [  2.31513441e-03  -2.38717789e-02  -1.67445603e-02   8.92206499e-04\n",
      "    9.99462734e-01  -9.81109101e-05  -3.32812875e-05   4.14235255e-03\n",
      "    1.18483756e-02  -3.51543098e-03   6.92344110e-03]\n",
      " [  7.48312160e-04   3.08204153e-04   2.55232500e-04   3.49846801e-04\n",
      "    4.12943179e-03  -6.96565372e-06   4.16951216e-06  -9.99984215e-01\n",
      "    3.17948604e-03   1.53436134e-03  -1.10029138e-03]]\n"
     ]
    }
   ],
   "source": [
    "pca = PCA(n_components=11)\n",
    "pca.fit(X_train)\n",
    "print pca.components_\n"
   ]
  },
  {
   "cell_type": "code",
   "execution_count": 26,
   "metadata": {
    "scrolled": true
   },
   "outputs": [
    {
     "name": "stdout",
     "output_type": "stream",
     "text": [
      "When 4 dimensional PCA, Reconstruction Error =  [[ 1345.4755741]]\n"
     ]
    }
   ],
   "source": [
    "reconstruction_error = 0\n",
    "phi = numpy.matrix(pca.components_)\n",
    "for j in range(4,11):\n",
    "    reconstruction_error+= phi[j]*X_error.T*X_error*phi[j].T\n",
    "print \"When 4 dimensional PCA, Reconstruction Error = \",reconstruction_error\n"
   ]
  },
  {
   "cell_type": "code",
   "execution_count": 27,
   "metadata": {},
   "outputs": [],
   "source": [
    "def feature(X,number):\n",
    "    pca = PCA(n_components = number)\n",
    "    pca.fit(X)\n",
    "    X_trans = pca.transform(X)\n",
    "    feat = [[1] for row in range(len(X_trans))]\n",
    "    X_trans = numpy.column_stack((feat, X_trans))\n",
    "    return X_trans\n"
   ]
  },
  {
   "cell_type": "code",
   "execution_count": 28,
   "metadata": {},
   "outputs": [],
   "source": [
    "def msecomp(theta, X, y):\n",
    "  theta = numpy.matrix(theta).T\n",
    "  X = numpy.matrix(X)\n",
    "  y = numpy.matrix(y).T\n",
    "  diff = X*theta - y\n",
    "  diffSq = diff.T*diff\n",
    "  mse = diffSq / len(y)\n",
    "  return mse.tolist()\n"
   ]
  },
  {
   "cell_type": "code",
   "execution_count": 31,
   "metadata": {
    "scrolled": false
   },
   "outputs": [
    {
     "data": {
      "image/png": "[encoded data removed]",
      "text/plain": [
       "<matplotlib.figure.Figure at 0x10d1e2790>"
      ]
     },
     "metadata": {},
     "output_type": "display_data"
    }
   ],
   "source": [
    "x = []\n",
    "mse1 = []\n",
    "mse2 = []\n",
    "for number in range(1,12):\n",
    "    x.append(number)\n",
    "    X1 = feature(X_train, number)\n",
    "    X2 = feature(X_test, number)\n",
    "    theta,residuals,rank,s = numpy.linalg.lstsq(X1, y_train)\n",
    "    mse1.append(msecomp(theta, X1, y_train)[0][0])\n",
    "    mse2.append(msecomp(theta, X2, y_test)[0][0])\n",
    "plt.plot(x, mse1, color='red', label = 'train')\n",
    "plt.plot(x, mse2, color='blue', label = 'test')\n",
    "plt.legend()\n",
    "plt.show()"
   ]
  },
  {
   "cell_type": "code",
   "execution_count": 30,
   "metadata": {},
   "outputs": [
    {
     "name": "stdout",
     "output_type": "stream",
     "text": [
      "using  1  PCA dimensions, MSE on the train set is  [[0.8638424397359241]] , MSE on the test set is  [[0.7239167310065002]]\n",
      "using  2  PCA dimensions, MSE on the train set is  [[0.8446694318557606]] , MSE on the test set is  [[0.7838412972045354]]\n",
      "using  3  PCA dimensions, MSE on the train set is  [[0.8275161155852007]] , MSE on the test set is  [[0.8042167885128124]]\n",
      "using  4  PCA dimensions, MSE on the train set is  [[0.6973832788752913]] , MSE on the test set is  [[0.6905359281602766]]\n",
      "using  5  PCA dimensions, MSE on the train set is  [[0.6855015598792389]] , MSE on the test set is  [[0.6974658497146826]]\n",
      "using  6  PCA dimensions, MSE on the train set is  [[0.6608539889873272]] , MSE on the test set is  [[0.7058775938678081]]\n",
      "using  7  PCA dimensions, MSE on the train set is  [[0.6591945115452172]] , MSE on the test set is  [[0.6972049728696039]]\n",
      "using  8  PCA dimensions, MSE on the train set is  [[0.6584860246102587]] , MSE on the test set is  [[0.6947137015246576]]\n",
      "using  9  PCA dimensions, MSE on the train set is  [[0.6368566142782323]] , MSE on the test set is  [[0.7580138288347223]]\n",
      "using  10  PCA dimensions, MSE on the train set is  [[0.6346878191481545]] , MSE on the test set is  [[0.7590856897994565]]\n",
      "using  11  PCA dimensions, MSE on the train set is  [[0.617211758543568]] , MSE on the test set is  [[0.7896350788507713]]\n"
     ]
    }
   ],
   "source": [
    "for number in range(1,12):\n",
    "    X1 = feature(X_train,number)\n",
    "    X2 = feature(X_test,number)\n",
    "    theta,residuals,rank,s = numpy.linalg.lstsq(X1, y_train)\n",
    "    mse1 = msecomp(theta, X1, y_train)\n",
    "    mse2 = msecomp(theta, X2, y_test)\n",
    "    print \"using \",number,\" PCA dimensions, MSE on the train set is \",mse1, \", MSE on the test set is \",mse2\n"
   ]
  },
  {
   "cell_type": "code",
   "execution_count": null,
   "metadata": {},
   "outputs": [],
   "source": []
  },
  {
   "cell_type": "code",
   "execution_count": null,
   "metadata": {},
   "outputs": [],
   "source": [
    "\n"
   ]
  },
  {
   "cell_type": "code",
   "execution_count": null,
   "metadata": {
    "collapsed": true
   },
   "outputs": [],
   "source": [
    "\n"
   ]
  },
  {
   "cell_type": "code",
   "execution_count": null,
   "metadata": {
    "collapsed": true
   },
   "outputs": [],
   "source": [
    "\n"
   ]
  },
  {
   "cell_type": "code",
   "execution_count": null,
   "metadata": {
    "collapsed": true
   },
   "outputs": [],
   "source": [
    "\n"
   ]
  }
 ],
 "metadata": {
  "kernelspec": {
   "display_name": "Python 3",
   "language": "python",
   "name": "python3"
  },
  "language_info": {
   "codemirror_mode": {
    "name": "ipython",
    "version": 3
   },
   "file_extension": ".py",
   "mimetype": "text/x-python",
   "name": "python",
   "nbconvert_exporter": "python",
   "pygments_lexer": "ipython3",
   "version": "3.6.4"
  }
 },
 "nbformat": 4,
 "nbformat_minor": 1
}
