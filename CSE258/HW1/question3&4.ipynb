{
 "cells": [
  {
   "cell_type": "code",
   "execution_count": 1,
   "metadata": {
    "collapsed": true
   },
   "outputs": [],
   "source": [
    "import numpy\n",
    "import urllib\n",
    "import csv\n",
    "import scipy.optimize\n",
    "import random\n",
    "import pickle"
   ]
  },
  {
   "cell_type": "code",
   "execution_count": 2,
   "metadata": {},
   "outputs": [
    {
     "name": "stdout",
     "output_type": "stream",
     "text": [
      "Reading data...\n",
      "done\n"
     ]
    }
   ],
   "source": [
    "print \"Reading data...\"\n",
    "csvfile = file('winequality-white.csv','rb')\n",
    "reader = csv.reader(csvfile)\n",
    "print \"done\"\n"
   ]
  },
  {
   "cell_type": "code",
   "execution_count": 3,
   "metadata": {},
   "outputs": [],
   "source": [
    "## Obatin the data from the file\n",
    "data = []\n",
    "for line in reader:\n",
    "    data.append(line[0].split(';'))\n",
    "del data[0]\n"
   ]
  },
  {
   "cell_type": "code",
   "execution_count": 4,
   "metadata": {},
   "outputs": [],
   "source": [
    "## Conversion from string to float\n",
    "for i in range(len(data)):\n",
    "    for j in range(len(data[i])):\n",
    "        data[i][j]=float(data[i][j])\n",
    "        "
   ]
  },
  {
   "cell_type": "code",
   "execution_count": 5,
   "metadata": {},
   "outputs": [],
   "source": [
    "## Obtain the quality\n",
    "N=12\n",
    "y=[x[N-1] for x in data]\n"
   ]
  },
  {
   "cell_type": "code",
   "execution_count": 6,
   "metadata": {},
   "outputs": [],
   "source": [
    "## Extract the features data\n",
    "for features in data:\n",
    "    del features[N-1]\n",
    "    "
   ]
  },
  {
   "cell_type": "code",
   "execution_count": 7,
   "metadata": {},
   "outputs": [],
   "source": [
    "def feature(datum):\n",
    "  ones = numpy.ones((len(data),1))\n",
    "  feat = numpy.column_stack((ones,data))\n",
    "  return feat"
   ]
  },
  {
   "cell_type": "code",
   "execution_count": 8,
   "metadata": {},
   "outputs": [],
   "source": [
    "X=feature(data)\n",
    "X_train=X[:len(data)/2]\n",
    "X_test=X[len(data)/2:]\n",
    "y_train=y[:len(data)/2]\n",
    "y_test=y[len(data)/2:]\n"
   ]
  },
  {
   "cell_type": "code",
   "execution_count": 9,
   "metadata": {},
   "outputs": [
    {
     "name": "stdout",
     "output_type": "stream",
     "text": [
      "[  2.56420279e+02   1.35421303e-01  -1.72994866e+00   1.02651152e-01\n",
      "   1.09038568e-01  -2.76775146e-01   6.34332168e-03   3.85023977e-05\n",
      "  -2.58652809e+02   1.19540566e+00   8.33006285e-01   9.79304353e-02]\n"
     ]
    }
   ],
   "source": [
    "theta,residuals,rank,s = numpy.linalg.lstsq(X_train, y_train)\n",
    "print theta\n"
   ]
  },
  {
   "cell_type": "code",
   "execution_count": 10,
   "metadata": {
    "collapsed": true
   },
   "outputs": [],
   "source": [
    "# Compute the MSE\n",
    "\n",
    "def msecomp(theta, X, y):\n",
    "  theta = numpy.matrix(theta).T\n",
    "  X = numpy.matrix(X)\n",
    "  y = numpy.matrix(y).T\n",
    "  diff = X*theta - y\n",
    "  diffSq = diff.T*diff\n",
    "  mse = diffSq / len(X)\n",
    "  return mse\n"
   ]
  },
  {
   "cell_type": "code",
   "execution_count": 11,
   "metadata": {},
   "outputs": [
    {
     "name": "stdout",
     "output_type": "stream",
     "text": [
      "[[ 0.6023075]]\n",
      "[[ 0.56245713]]\n"
     ]
    }
   ],
   "source": [
    "print msecomp(theta,X_train,y_train)\n",
    "print msecomp(theta,X_test,y_test)\n"
   ]
  },
  {
   "cell_type": "code",
   "execution_count": 12,
   "metadata": {},
   "outputs": [],
   "source": [
    "## Ablation Experiment\n",
    "\n",
    "def ablation(index, Xset):\n",
    "    XL = []\n",
    "    XR = []\n",
    "    for i in range(len(Xset)):\n",
    "        XL.append(Xset[i][:index])\n",
    "        XR.append(Xset[i][index+1:])\n",
    "    ones = numpy.ones((len(Xset), 1))\n",
    "    Xset_new = numpy.column_stack([XL, XR])\n",
    "    return Xset_new\n"
   ]
  },
  {
   "cell_type": "code",
   "execution_count": 37,
   "metadata": {},
   "outputs": [],
   "source": [
    "## input different feature index so obtain different training set e.g. index from [1,11]\n",
    "featureindex=11\n",
    "X_train_new = ablation(featureindex, X_train)\n",
    "X_test_new = ablation(featureindex, X_test)\n",
    "theta, residuals, rank, s = numpy.linalg.lstsq(X_train_new, y_train)"
   ]
  },
  {
   "cell_type": "code",
   "execution_count": 38,
   "metadata": {},
   "outputs": [
    {
     "name": "stdout",
     "output_type": "stream",
     "text": [
      "[[ 1.20516896]]\n"
     ]
    }
   ],
   "source": [
    "print msecomp(theta,X_test_new,y_train)"
   ]
  },
  {
   "cell_type": "code",
   "execution_count": null,
   "metadata": {
    "collapsed": true
   },
   "outputs": [],
   "source": []
  }
 ],
 "metadata": {
  "kernelspec": {
   "display_name": "Python 3",
   "language": "python",
   "name": "python3"
  },
  "language_info": {
   "codemirror_mode": {
    "name": "ipython",
    "version": 3
   },
   "file_extension": ".py",
   "mimetype": "text/x-python",
   "name": "python",
   "nbconvert_exporter": "python",
   "pygments_lexer": "ipython3",
   "version": "3.6.4"
  }
 },
 "nbformat": 4,
 "nbformat_minor": 1
}
