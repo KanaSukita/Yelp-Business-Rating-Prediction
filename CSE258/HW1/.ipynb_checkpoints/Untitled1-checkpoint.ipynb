{
 "cells": [
  {
   "cell_type": "code",
   "execution_count": 1,
   "metadata": {
    "collapsed": true
   },
   "outputs": [],
   "source": [
    "import numpy\n",
    "import urllib\n",
    "import scipy.optimize\n",
    "import random"
   ]
  },
  {
   "cell_type": "code",
   "execution_count": 2,
   "metadata": {
    "collapsed": true
   },
   "outputs": [],
   "source": [
    "def parseData(fname):\n",
    "  for l in urllib.urlopen(fname):\n",
    "    yield eval(l)"
   ]
  },
  {
   "cell_type": "code",
   "execution_count": 3,
   "metadata": {
    "scrolled": true
   },
   "outputs": [
    {
     "name": "stdout",
     "output_type": "stream",
     "text": [
      "Reading data...\n",
      "done\n"
     ]
    }
   ],
   "source": [
    "print \"Reading data...\"\n",
    "data = list(parseData(\"http://jmcauley.ucsd.edu/cse258/data/beer/beer_50000.json\"))\n",
    "print \"done\""
   ]
  },
  {
   "cell_type": "code",
   "execution_count": 4,
   "metadata": {
    "scrolled": true
   },
   "outputs": [
    {
     "name": "stdout",
     "output_type": "stream",
     "text": [
      "[ -3.91707489e+01   2.14379786e-02]\n"
     ]
    }
   ],
   "source": [
    "### predictor that uses the year to predict the overall rating\n",
    "\n",
    "def feature(datum):\n",
    "  feat = [1]\n",
    "  feat.append(datum['review/timeStruct']['year'])\n",
    "  return feat\n",
    "\n",
    "X1 = [feature(d) for d in data]\n",
    "y = [d['review/overall'] for d in data]\n",
    "thetaset1,residuals,rank,s = numpy.linalg.lstsq(X1, y)\n",
    "print thetaset1"
   ]
  },
  {
   "cell_type": "code",
   "execution_count": 5,
   "metadata": {},
   "outputs": [
    {
     "name": "stdout",
     "output_type": "stream",
     "text": [
      "[ -5.24334109e-17  -6.30565241e-14  -6.33694373e-11  -4.23969147e-08\n",
      "   4.07781528e-11  -9.67413362e-15]\n"
     ]
    }
   ],
   "source": [
    "### Regressor with polynomial function using year\n",
    "\n",
    "def feature(datum):\n",
    "  feat=[1]\n",
    "  feat.append(datum['review/timeStruct']['year'])\n",
    "  feat.append(numpy.power(datum['review/timeStruct']['year'],2))\n",
    "  feat.append(numpy.power(datum['review/timeStruct']['year'],3))\n",
    "  feat.append(numpy.power(datum['review/timeStruct']['year'],4))\n",
    "  feat.append(numpy.power(datum['review/timeStruct']['year'],5))\n",
    "  return feat\n",
    "X2 = [feature(d) for d in data]\n",
    "y = [d['review/overall'] for d in data]\n",
    "thetaset2,residuals,rank,s = numpy.linalg.lstsq(X2, y)\n",
    "print thetaset2"
   ]
  },
  {
   "cell_type": "code",
   "execution_count": 6,
   "metadata": {},
   "outputs": [],
   "source": [
    "# Compute the MSE\n",
    "\n",
    "def msecomp(theta, X, y):\n",
    "  theta = numpy.matrix(theta).T\n",
    "  X = numpy.matrix(X)\n",
    "  y = numpy.matrix(y).T\n",
    "  diff = X*theta - y\n",
    "  diffSq = diff.T*diff\n",
    "  mse = diffSq / len(X)\n",
    "  return mse"
   ]
  },
  {
   "cell_type": "code",
   "execution_count": 7,
   "metadata": {},
   "outputs": [
    {
     "name": "stdout",
     "output_type": "stream",
     "text": [
      "[[ 0.49004382]]\n",
      "[[ 0.49004372]]\n"
     ]
    }
   ],
   "source": [
    "mse1=msecomp(thetaset1, X1, y)\n",
    "print(mse1)\n",
    "mse2=msecomp(thetaset2, X2, y)\n",
    "print(mse2)"
   ]
  },
  {
   "cell_type": "code",
   "execution_count": null,
   "metadata": {
    "collapsed": true
   },
   "outputs": [],
   "source": []
  },
  {
   "cell_type": "code",
   "execution_count": null,
   "metadata": {
    "collapsed": true
   },
   "outputs": [],
   "source": []
  },
  {
   "cell_type": "code",
   "execution_count": null,
   "metadata": {
    "collapsed": true
   },
   "outputs": [],
   "source": []
  }
 ],
 "metadata": {
  "kernelspec": {
   "display_name": "Python 3",
   "language": "python",
   "name": "python3"
  },
  "language_info": {
   "codemirror_mode": {
    "name": "ipython",
    "version": 3
   },
   "file_extension": ".py",
   "mimetype": "text/x-python",
   "name": "python",
   "nbconvert_exporter": "python",
   "pygments_lexer": "ipython3",
   "version": "3.6.4"
  }
 },
 "nbformat": 4,
 "nbformat_minor": 1
}
