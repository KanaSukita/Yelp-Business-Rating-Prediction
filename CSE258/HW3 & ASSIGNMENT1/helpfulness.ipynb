{
 "cells": [
  {
   "cell_type": "code",
   "execution_count": 1,
   "metadata": {
    "collapsed": true
   },
   "outputs": [],
   "source": [
    "import numpy\n",
    "import gzip\n",
    "from collections import defaultdict\n",
    "import scipy.optimize\n",
    "import random\n",
    "from math import exp\n",
    "from math import log\n",
    "from sklearn import svm"
   ]
  },
  {
   "cell_type": "code",
   "execution_count": 2,
   "metadata": {
    "collapsed": true
   },
   "outputs": [],
   "source": [
    "def readGz(f):\n",
    "  for l in gzip.open(f):\n",
    "    yield eval(l)"
   ]
  },
  {
   "cell_type": "code",
   "execution_count": 3,
   "metadata": {
    "collapsed": true
   },
   "outputs": [],
   "source": [
    "data = list(readGz(\"train.json.gz\"))\n",
    "train_data = data[:len(data)/2]\n",
    "validation_data = data[len(data)/2:]"
   ]
  },
  {
   "cell_type": "code",
   "execution_count": 4,
   "metadata": {
    "collapsed": true
   },
   "outputs": [],
   "source": [
    "allHelpful = []\n",
    "for l in train_data:\n",
    "    allHelpful.append(l['helpful'])"
   ]
  },
  {
   "cell_type": "code",
   "execution_count": 5,
   "metadata": {
    "scrolled": true
   },
   "outputs": [],
   "source": [
    "trainHelpful = []\n",
    "trainWords = []\n",
    "trainRatings = []\n",
    "trainTimes = []\n",
    "trainMonths = []\n",
    "trainSummary = []\n",
    "trainCatnumbers = []\n",
    "trainCatwords = []\n",
    "trainCattypes = []\n",
    "\n",
    "\n",
    "catDict = {'Women': [1,0,0,0,0], 'Men': [0,1,0,0,0], 'Girls': [0,0,1,0,0], 'Boys': [0,0,0,1,0], 'Baby': [0,0,0,0,1]}\n",
    "\n",
    "for u in train_data:\n",
    "    if u['helpful']['outOf'] > 0:\n",
    "        trainHelpful.append(u['helpful']['nHelpful']*1.0/u['helpful']['outOf'])\n",
    "        trainWords.append(len(u['reviewText'].split()))\n",
    "        trainRatings.append(u['rating'])\n",
    "        trainTimes.append(u['reviewTime'].split(','))\n",
    "        trainSummary.append(len(u['summary'].split()))\n",
    "        trainCatnumbers.append(len(u['categories']))\n",
    "        trainCatwords.append(u['categories'])\n",
    "for i in range(len(trainTimes)):\n",
    "    trainMonths.append((2017 - float(trainTimes[i][1])) * 365 - float(trainTimes[i][0][0:2]) * 30 + 2.0)\n",
    "    cat = catDict['Women']\n",
    "    for j in range(len(trainCatwords[i])):\n",
    "        if 'Men' in trainCatwords[i][j] or 'Man' in trainCatwords[i][j]:\n",
    "            cat = catDict['Men']\n",
    "        if 'Girls' in trainCatwords[i][j] or 'Girl' in trainCatwords[i][j]:\n",
    "            cat = catDict['Girls']\n",
    "        if 'Boys' in trainCatwords[i][j] or 'Boy' in trainCatwords[i][j]:\n",
    "            cat = catDict['Boys']\n",
    "        if 'Babies' in trainCatwords[i][j] or 'Baby' in trainCatwords[i][j]:\n",
    "            cat = catDict['Baby']\n",
    "    trainCattypes.append(cat)"
   ]
  },
  {
   "cell_type": "code",
   "execution_count": 6,
   "metadata": {
    "collapsed": true
   },
   "outputs": [],
   "source": [
    "def feature(words, ratings, months, cat):\n",
    "    feat = [[1] for row in range(len(words))]\n",
    "    feat = numpy.column_stack((feat, words, ratings, months, cat))\n",
    "    return feat"
   ]
  },
  {
   "cell_type": "code",
   "execution_count": 7,
   "metadata": {
    "scrolled": true
   },
   "outputs": [],
   "source": [
    "X_train = feature(trainWords, trainRatings, trainMonths, trainCatnumbers)"
   ]
  },
  {
   "cell_type": "code",
   "execution_count": 8,
   "metadata": {},
   "outputs": [],
   "source": [
    "helpfulRatings = defaultdict(list)\n",
    "reviewWords = defaultdict(list)\n",
    "reviewTimes = defaultdict(list)\n",
    "monthPassed = defaultdict(list)\n",
    "summaryWords = defaultdict(list)\n",
    "catNumbers = defaultdict(list)\n",
    "catWords = defaultdict(list)\n",
    "catTypes = defaultdict(list)\n",
    "\n",
    "\n",
    "for l in readGz(\"test_Helpful.json.gz\"):\n",
    "    user,item = l['reviewerID'],l['itemID']\n",
    "    wordCount = defaultdict(int)\n",
    "    reviewWords[user + item] = (len(l['reviewText'].split()))\n",
    "    helpfulRatings[user + item] = (l['rating'])\n",
    "    reviewTimes[user + item] = (l['reviewTime'].split(','))\n",
    "    monthPassed[user + item] = (2017 - float(reviewTimes[user + item][1])) * 12 + float(reviewTimes[user + item][0][0:2])\n",
    "    summaryWords[user + item] = (len(l['summary'].split()))\n",
    "    catNumbers[user + item] = (len(l['categories']))\n",
    "    catWords[user + item] = (l['categories'])\n",
    "    cat = catDict['Women']\n",
    "    for j in range(len(catWords[user + item])):\n",
    "        if 'Men' in catWords[user + item][j] or 'Man' in catWords[user + item][j]:\n",
    "            cat = catDict['Men']\n",
    "        if 'Girls' in catWords[user + item][j] or 'Girl' in catWords[user + item][j]:\n",
    "            cat = catDict['Girls']\n",
    "        if 'Boys' in catWords[user + item][j] or 'Boy' in catWords[user + item][j]:\n",
    "            cat = catDict['Boys']\n",
    "        if 'Babies' in catWords[user + item][j] or 'Baby' in catWords[user + item][j]:\n",
    "            cat = catDict['Baby']\n",
    "    catTypes[user + item] = cat\n"
   ]
  },
  {
   "cell_type": "code",
   "execution_count": 9,
   "metadata": {},
   "outputs": [],
   "source": [
    "def inner(x,y):\n",
    "  return sum([x[i]*y[i] for i in range(len(x))])"
   ]
  },
  {
   "cell_type": "code",
   "execution_count": 10,
   "metadata": {},
   "outputs": [],
   "source": [
    "def sigmoid(x):\n",
    "  return 1.0 / (1 + exp(-x))"
   ]
  },
  {
   "cell_type": "code",
   "execution_count": 11,
   "metadata": {},
   "outputs": [],
   "source": [
    "# NEGATIVE Log-likelihood\n",
    "def f(theta, X, y, lam):\n",
    "  loglikelihood = 0\n",
    "  for i in range(len(X)):\n",
    "    logit = inner(X[i], theta)\n",
    "    loglikelihood -= log(1 + exp(-logit))\n",
    "    if not y[i]:\n",
    "      loglikelihood -= logit\n",
    "  for k in range(len(theta)):\n",
    "    loglikelihood -= lam * theta[k]*theta[k]\n",
    "  return -loglikelihood"
   ]
  },
  {
   "cell_type": "code",
   "execution_count": 12,
   "metadata": {
    "collapsed": true
   },
   "outputs": [],
   "source": [
    "# NEGATIVE Derivative of log-likelihood\n",
    "def fprime(theta, X, y, lam):\n",
    "  dl = [0]*len(theta)\n",
    "  for i in range(len(X)):\n",
    "    logit = inner(X[i], theta)\n",
    "    for k in range(len(theta)):\n",
    "      dl[k] += X[i][k] * (1 - sigmoid(logit))\n",
    "      if not y[i]:\n",
    "        dl[k] -= X[i][k]\n",
    "  for k in range(len(theta)):\n",
    "    dl[k] -= lam*2*theta[k]\n",
    "  return numpy.array([-x for x in dl])"
   ]
  },
  {
   "cell_type": "code",
   "execution_count": 13,
   "metadata": {},
   "outputs": [],
   "source": [
    "# Obtain the evaluation\n",
    "y_train=[]\n",
    "for quality in trainHelpful:\n",
    "  if quality > 0.75:\n",
    "    y_train.append(1)\n",
    "  else:\n",
    "    y_train.append(0)\n",
    "    \n"
   ]
  },
  {
   "cell_type": "code",
   "execution_count": 14,
   "metadata": {},
   "outputs": [],
   "source": [
    "# Use a library function to run gradient descent (or you can implement yourself!)\n",
    "theta,l,info = scipy.optimize.fmin_l_bfgs_b(f, [0]*len(X_train[0]), fprime, args = (X_train, y_train, 4.0))"
   ]
  },
  {
   "cell_type": "code",
   "execution_count": 19,
   "metadata": {
    "scrolled": true
   },
   "outputs": [
    {
     "name": "stderr",
     "output_type": "stream",
     "text": [
      "/anaconda/lib/python2.7/site-packages/ipykernel/__main__.py:4: VisibleDeprecationWarning: using a non-integer number instead of an integer will result in an error in the future\n"
     ]
    }
   ],
   "source": [
    "y_predictions = defaultdict(list)\n",
    "for u in reviewWords:\n",
    "    X_feature = [1.0, reviewWords[u], helpfulRatings[u], monthPassed[u], catTypes[u]]\n",
    "    y_predictions[u] = sum(theta[i] * X_feature[i] for i in range(len(theta)))"
   ]
  },
  {
   "cell_type": "code",
   "execution_count": 20,
   "metadata": {},
   "outputs": [],
   "source": [
    "minimum = 0\n",
    "maximum = 0\n",
    "for u in y_predictions:\n",
    "    minimum = min(y_predictions[u], minimum)\n",
    "    maximum = max(y_predictions[u], maximum)"
   ]
  },
  {
   "cell_type": "code",
   "execution_count": 21,
   "metadata": {},
   "outputs": [],
   "source": [
    "userRate = defaultdict(list)\n",
    "for u in y_predictions:\n",
    "    if y_predictions > 0:\n",
    "        userRate[u] = 0.75 + 0.25 * (y_predictions[u] / maximum)\n",
    "    else:\n",
    "        userRate[u] = 0.75 - 0.75 * (y_predictions[u] / minimum)"
   ]
  },
  {
   "cell_type": "code",
   "execution_count": 22,
   "metadata": {},
   "outputs": [
    {
     "ename": "TypeError",
     "evalue": "only length-1 arrays can be converted to Python scalars",
     "output_type": "error",
     "traceback": [
      "\u001b[0;31m---------------------------------------------------------------------------\u001b[0m",
      "\u001b[0;31mTypeError\u001b[0m                                 Traceback (most recent call last)",
      "\u001b[0;32m<ipython-input-22-20a0fc98302e>\u001b[0m in \u001b[0;36m<module>\u001b[0;34m()\u001b[0m\n\u001b[1;32m      7\u001b[0m   \u001b[0mu\u001b[0m\u001b[0;34m,\u001b[0m\u001b[0mi\u001b[0m\u001b[0;34m,\u001b[0m\u001b[0moutOf\u001b[0m \u001b[0;34m=\u001b[0m \u001b[0ml\u001b[0m\u001b[0;34m.\u001b[0m\u001b[0mstrip\u001b[0m\u001b[0;34m(\u001b[0m\u001b[0;34m)\u001b[0m\u001b[0;34m.\u001b[0m\u001b[0msplit\u001b[0m\u001b[0;34m(\u001b[0m\u001b[0;34m'-'\u001b[0m\u001b[0;34m)\u001b[0m\u001b[0;34m\u001b[0m\u001b[0m\n\u001b[1;32m      8\u001b[0m   \u001b[0moutOf\u001b[0m \u001b[0;34m=\u001b[0m \u001b[0mint\u001b[0m\u001b[0;34m(\u001b[0m\u001b[0moutOf\u001b[0m\u001b[0;34m)\u001b[0m\u001b[0;34m\u001b[0m\u001b[0m\n\u001b[0;32m----> 9\u001b[0;31m   \u001b[0mresult\u001b[0m \u001b[0;34m=\u001b[0m \u001b[0mround\u001b[0m\u001b[0;34m(\u001b[0m\u001b[0moutOf\u001b[0m \u001b[0;34m*\u001b[0m \u001b[0muserRate\u001b[0m\u001b[0;34m[\u001b[0m\u001b[0mu\u001b[0m \u001b[0;34m+\u001b[0m \u001b[0mi\u001b[0m\u001b[0;34m]\u001b[0m\u001b[0;34m,\u001b[0m\u001b[0;36m0\u001b[0m\u001b[0;34m)\u001b[0m\u001b[0;34m\u001b[0m\u001b[0m\n\u001b[0m\u001b[1;32m     10\u001b[0m   \u001b[0mpredictions\u001b[0m\u001b[0;34m.\u001b[0m\u001b[0mwrite\u001b[0m\u001b[0;34m(\u001b[0m\u001b[0mu\u001b[0m \u001b[0;34m+\u001b[0m \u001b[0;34m'-'\u001b[0m \u001b[0;34m+\u001b[0m \u001b[0mi\u001b[0m \u001b[0;34m+\u001b[0m \u001b[0;34m'-'\u001b[0m \u001b[0;34m+\u001b[0m \u001b[0mstr\u001b[0m\u001b[0;34m(\u001b[0m\u001b[0moutOf\u001b[0m\u001b[0;34m)\u001b[0m \u001b[0;34m+\u001b[0m \u001b[0;34m','\u001b[0m \u001b[0;34m+\u001b[0m \u001b[0mstr\u001b[0m\u001b[0;34m(\u001b[0m\u001b[0mresult\u001b[0m\u001b[0;34m)\u001b[0m \u001b[0;34m+\u001b[0m \u001b[0;34m'\\n'\u001b[0m\u001b[0;34m)\u001b[0m\u001b[0;34m\u001b[0m\u001b[0m\n\u001b[1;32m     11\u001b[0m \u001b[0;34m\u001b[0m\u001b[0m\n",
      "\u001b[0;31mTypeError\u001b[0m: only length-1 arrays can be converted to Python scalars"
     ]
    }
   ],
   "source": [
    "predictions = open(\"predictions_Helpful.txt\", 'w')\n",
    "for l in open(\"pairs_Helpful.txt\"):\n",
    "  if l.startswith(\"userID\"):\n",
    "    #header\n",
    "    predictions.write(l)\n",
    "    continue\n",
    "  u,i,outOf = l.strip().split('-')\n",
    "  outOf = int(outOf)\n",
    "  result = round(outOf * userRate[u + i],0)\n",
    "  predictions.write(u + '-' + i + '-' + str(outOf) + ',' + str(result) + '\\n')\n",
    "\n",
    "predictions.close()"
   ]
  },
  {
   "cell_type": "code",
   "execution_count": 23,
   "metadata": {
    "scrolled": true
   },
   "outputs": [
    {
     "data": {
      "text/plain": [
       "array([ -5.08729381e-01,   4.45243435e-04,   3.15081874e-01,\n",
       "         3.52317809e-05,  -7.65316102e-03])"
      ]
     },
     "execution_count": 23,
     "metadata": {},
     "output_type": "execute_result"
    }
   ],
   "source": [
    "theta"
   ]
  },
  {
   "cell_type": "code",
   "execution_count": null,
   "metadata": {
    "scrolled": false
   },
   "outputs": [],
   "source": []
  },
  {
   "cell_type": "code",
   "execution_count": null,
   "metadata": {},
   "outputs": [],
   "source": []
  },
  {
   "cell_type": "code",
   "execution_count": null,
   "metadata": {
    "scrolled": true
   },
   "outputs": [],
   "source": []
  },
  {
   "cell_type": "code",
   "execution_count": null,
   "metadata": {
    "scrolled": true
   },
   "outputs": [],
   "source": []
  },
  {
   "cell_type": "code",
   "execution_count": null,
   "metadata": {},
   "outputs": [],
   "source": []
  },
  {
   "cell_type": "code",
   "execution_count": null,
   "metadata": {
    "collapsed": true
   },
   "outputs": [],
   "source": []
  }
 ],
 "metadata": {
  "anaconda-cloud": {},
  "kernelspec": {
   "display_name": "Python 3",
   "language": "python",
   "name": "python3"
  },
  "language_info": {
   "codemirror_mode": {
    "name": "ipython",
    "version": 2
   },
   "file_extension": ".py",
   "mimetype": "text/x-python",
   "name": "python",
   "nbconvert_exporter": "python",
   "pygments_lexer": "ipython2",
   "version": "2.7.12"
  }
 },
 "nbformat": 4,
 "nbformat_minor": 1
}
