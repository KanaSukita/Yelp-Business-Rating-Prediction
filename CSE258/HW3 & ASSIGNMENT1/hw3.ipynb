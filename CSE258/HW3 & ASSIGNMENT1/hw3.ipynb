{
 "cells": [
  {
   "cell_type": "code",
   "execution_count": 8,
   "metadata": {
    "collapsed": true
   },
   "outputs": [],
   "source": [
    "import gzip\n",
    "import numpy\n",
    "from collections import defaultdict"
   ]
  },
  {
   "cell_type": "code",
   "execution_count": 9,
   "metadata": {
    "collapsed": true
   },
   "outputs": [],
   "source": [
    "def readGz(f):\n",
    "  for l in gzip.open(f):\n",
    "    yield eval(l)"
   ]
  },
  {
   "cell_type": "code",
   "execution_count": 10,
   "metadata": {
    "collapsed": true
   },
   "outputs": [],
   "source": [
    "userRatings = defaultdict(dict)\n",
    "itemRatings = defaultdict(dict)\n",
    "beta_u = defaultdict(float)\n",
    "beta_i = defaultdict(float)"
   ]
  },
  {
   "cell_type": "code",
   "execution_count": 11,
   "metadata": {
    "collapsed": true
   },
   "outputs": [],
   "source": [
    "data = list(readGz(\"train.json.gz\"))\n",
    "train_data = data[:len(data)/2]\n",
    "validation_data = data[len(data)/2:]\n",
    "\n",
    "for l in train_data:\n",
    "    user,item = l['reviewerID'],l['itemID']\n",
    "    userRatings[user][item] = l['rating']\n",
    "    itemRatings[item][user] = l['rating']\n",
    "    beta_u[user] = 0.0\n",
    "    beta_i[item] = 0.0"
   ]
  },
  {
   "cell_type": "code",
   "execution_count": 12,
   "metadata": {
    "scrolled": true
   },
   "outputs": [
    {
     "name": "stdout",
     "output_type": "stream",
     "text": [
      "lamda= 1 MSE= 1.28154916045\n"
     ]
    }
   ],
   "source": [
    "MSE=[]\n",
    "lamda = 1\n",
    "alpha = 0\n",
    "for iteration in range(1000):\n",
    "    original_alpha=alpha\n",
    "    # print\"original_alpha = \",original_alpha\n",
    "    total = 0\n",
    "    for u in userRatings:\n",
    "        for i in userRatings[u]:\n",
    "            temp = userRatings[u][i] - (beta_u[u] + beta_i[i])\n",
    "            total += temp\n",
    "    alpha = total/100000\n",
    "\n",
    "    #print \"iteration\",iteration,\"alpha = \",alpha\n",
    "    diff = abs(original_alpha-alpha)\n",
    "    if diff < 1e-100:\n",
    "        break\n",
    "\n",
    "    for u in userRatings:\n",
    "        total = 0\n",
    "        for i in userRatings[u]:\n",
    "            total += userRatings[u][i] - alpha - beta_i[i]\n",
    "        beta_u[u] = total / (lamda + len(userRatings[u].keys()))\n",
    "\n",
    "    for i in itemRatings:\n",
    "        total = 0\n",
    "        for u in itemRatings[i]:\n",
    "            total += itemRatings[i][u] - alpha - beta_u[u]\n",
    "        beta_i[i] = total/(lamda+len(itemRatings[i].keys()))\n",
    "\n",
    "total = 0\n",
    "for l in validation_data:\n",
    "    total += (l['rating'] - (alpha + beta_u[l['reviewerID']] + beta_i[l['itemID']])) ** 2\n",
    "mse = total / 100000\n",
    "print\"lamda=\",lamda,\"MSE=\", mse\n",
    "    # MSE.append(mse)"
   ]
  },
  {
   "cell_type": "code",
   "execution_count": 13,
   "metadata": {
    "scrolled": true
   },
   "outputs": [
    {
     "name": "stdout",
     "output_type": "stream",
     "text": [
      "min userBeta = U052814411\n",
      "max userBeta = U816486110\n",
      "min itemBeta = I071368828\n",
      "max itemBeta = I558325415\n"
     ]
    }
   ],
   "source": [
    "print\"min userBeta =\", min(beta_u, key=beta_u.get)\n",
    "print\"max userBeta =\", max(beta_u, key=beta_u.get)\n",
    "\n",
    "print\"min itemBeta =\", min(beta_i, key=beta_i.get)\n",
    "print\"max itemBeta =\", max(beta_i, key=beta_i.get)"
   ]
  },
  {
   "cell_type": "code",
   "execution_count": 15,
   "metadata": {
    "collapsed": true
   },
   "outputs": [],
   "source": [
    "predictions = open(\"predictions_Rating.txt\", 'w')\n",
    "for l in open(\"pairs_Rating.txt\"):\n",
    "  if l.startswith(\"userID\"):\n",
    "    #header\n",
    "    predictions.write(l)\n",
    "    continue\n",
    "  u,i = l.strip().split('-')\n",
    "  predictions.write(u + '-' + i + ',' + str(alpha + beta_u[u] + beta_i[i]) + '\\n')\n",
    "\n",
    "predictions.close()"
   ]
  },
  {
   "cell_type": "code",
   "execution_count": null,
   "metadata": {
    "collapsed": true
   },
   "outputs": [],
   "source": []
  },
  {
   "cell_type": "code",
   "execution_count": null,
   "metadata": {
    "collapsed": true
   },
   "outputs": [],
   "source": []
  }
 ],
 "metadata": {
  "anaconda-cloud": {},
  "kernelspec": {
   "display_name": "Python 3",
   "language": "python",
   "name": "python3"
  },
  "language_info": {
   "codemirror_mode": {
    "name": "ipython",
    "version": 3
   },
   "file_extension": ".py",
   "mimetype": "text/x-python",
   "name": "python",
   "nbconvert_exporter": "python",
   "pygments_lexer": "ipython3",
   "version": "3.6.4"
  }
 },
 "nbformat": 4,
 "nbformat_minor": 1
}
