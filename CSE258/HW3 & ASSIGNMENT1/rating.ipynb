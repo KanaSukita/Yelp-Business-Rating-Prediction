{
 "cells": [
  {
   "cell_type": "code",
   "execution_count": 1,
   "metadata": {
    "collapsed": true
   },
   "outputs": [],
   "source": [
    "import gzip\n",
    "import numpy\n",
    "from collections import defaultdict\n",
    "import math"
   ]
  },
  {
   "cell_type": "code",
   "execution_count": 2,
   "metadata": {
    "collapsed": true
   },
   "outputs": [],
   "source": [
    "def readGz(f):\n",
    "  for l in gzip.open(f):\n",
    "    yield eval(l)"
   ]
  },
  {
   "cell_type": "code",
   "execution_count": 3,
   "metadata": {
    "collapsed": true
   },
   "outputs": [],
   "source": [
    "data = list(readGz(\"train.json.gz\"))\n",
    "train_data = data\n",
    "validation_data = data[len(data)/2:]"
   ]
  },
  {
   "cell_type": "code",
   "execution_count": 4,
   "metadata": {
    "collapsed": true
   },
   "outputs": [],
   "source": [
    "userRatings = defaultdict(dict)\n",
    "itemRatings = defaultdict(dict)\n",
    "beta_u = defaultdict(float)\n",
    "beta_i = defaultdict(float)"
   ]
  },
  {
   "cell_type": "code",
   "execution_count": 5,
   "metadata": {
    "collapsed": true
   },
   "outputs": [],
   "source": [
    "for l in train_data:\n",
    "    user,item = l['reviewerID'],l['itemID']\n",
    "    userRatings[user][item] = l['rating']\n",
    "    itemRatings[item][user] = l['rating']\n",
    "    beta_u[user] = 0.0\n",
    "    beta_i[item] = 0.0"
   ]
  },
  {
   "cell_type": "code",
   "execution_count": 6,
   "metadata": {
    "collapsed": true
   },
   "outputs": [],
   "source": [
    "def inner(x,y):\n",
    "  return sum([x[i]*y[i] for i in range(len(x))])"
   ]
  },
  {
   "cell_type": "code",
   "execution_count": 7,
   "metadata": {
    "collapsed": true
   },
   "outputs": [],
   "source": [
    "def f(alpha, beta_u, beta_i, gamma_u, gamma_i, lamda, userRatings, itemRatings):\n",
    "    obj = 0\n",
    "    for u in userRatings:\n",
    "        for i in userRatings[u]:\n",
    "            obj += (alpha + beta_u + beta_i + inner(gamma_u[u], gamma_i[i]) - userRatings[u][i])**2\n",
    "    regularizer = 0\n",
    "    for u in userRatings:\n",
    "        regularizer += beta_u**2 + inner(gamma_u[u], gamma_u[u])\n",
    "    for i in itemRatings:\n",
    "        regularizer += beta_i**2 + inner(gamma_i[i], gamma_i[i])\n",
    "    obj += lamda * regularizer\n",
    "    return obj"
   ]
  },
  {
   "cell_type": "code",
   "execution_count": 8,
   "metadata": {
    "collapsed": false
   },
   "outputs": [],
   "source": [
    "def fprime(alpha, beta_u, beta_i, gamma_u, gamma_i, lamda, userRatings, itemRatings, k):\n",
    "    dobj = [0.0] * (1 + len(beta_u) + len(beta_i) + k * (len(gamma_u) + len(gamma_i)))\n"
   ]
  },
  {
   "cell_type": "code",
   "execution_count": 19,
   "metadata": {
    "collapsed": false
   },
   "outputs": [],
   "source": [
    "def iterative(lamda):\n",
    "    alpha = 0\n",
    "    for iteration in range(1000):\n",
    "        original_alpha=alpha\n",
    "        total = 0\n",
    "        for u in userRatings:\n",
    "            for i in userRatings[u]:\n",
    "                temp = userRatings[u][i] - (beta_u[u] + beta_i[i])\n",
    "                total += temp\n",
    "        alpha = total/200000\n",
    "\n",
    "        diff = abs(original_alpha-alpha)\n",
    "        if diff < 1e-100:\n",
    "            break\n",
    "            \n",
    "        for u in userRatings:\n",
    "            total = 0\n",
    "            for i in userRatings[u]:\n",
    "                total += userRatings[u][i] - alpha - beta_i[i]\n",
    "            beta_u[u] = total / (lamda + len(userRatings[u].keys()))\n",
    "\n",
    "        for i in itemRatings:\n",
    "            total = 0\n",
    "            for u in itemRatings[i]:\n",
    "                total += itemRatings[i][u] - alpha - beta_u[u]\n",
    "            beta_i[i] = total/(lamda+len(itemRatings[i].keys()))\n",
    "\n",
    "    return alpha, beta_u, beta_i"
   ]
  },
  {
   "cell_type": "code",
   "execution_count": 22,
   "metadata": {
    "collapsed": false
   },
   "outputs": [],
   "source": [
    "lamda = 5.45\n",
    "alpha, beta_u, beta_i = iterative(lamda)"
   ]
  },
  {
   "cell_type": "code",
   "execution_count": 23,
   "metadata": {
    "collapsed": false
   },
   "outputs": [],
   "source": [
    "predictions = open(\"predictions_Rating.txt\", 'w')\n",
    "for l in open(\"pairs_Rating.txt\"):\n",
    "  if l.startswith(\"userID\"):\n",
    "    #header\n",
    "    predictions.write(l)\n",
    "    continue\n",
    "  u,i = l.strip().split('-')\n",
    "  result = alpha + beta_u[u] + beta_i[i]\n",
    "  predictions.write(u + '-' + i + ',' + str(round(result,1)) + '\\n')\n",
    "\n",
    "predictions.close()"
   ]
  },
  {
   "cell_type": "code",
   "execution_count": null,
   "metadata": {
    "collapsed": false
   },
   "outputs": [],
   "source": []
  },
  {
   "cell_type": "code",
   "execution_count": null,
   "metadata": {
    "collapsed": true
   },
   "outputs": [],
   "source": []
  }
 ],
 "metadata": {
  "anaconda-cloud": {},
  "kernelspec": {
   "display_name": "Python [conda root]",
   "language": "python",
   "name": "conda-root-py"
  },
  "language_info": {
   "codemirror_mode": {
    "name": "ipython",
    "version": 2
   },
   "file_extension": ".py",
   "mimetype": "text/x-python",
   "name": "python",
   "nbconvert_exporter": "python",
   "pygments_lexer": "ipython2",
   "version": "2.7.12"
  }
 },
 "nbformat": 4,
 "nbformat_minor": 1
}
