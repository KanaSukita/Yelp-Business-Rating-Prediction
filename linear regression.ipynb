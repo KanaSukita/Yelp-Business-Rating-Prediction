{
 "cells": [
  {
   "cell_type": "code",
   "execution_count": 1,
   "metadata": {},
   "outputs": [],
   "source": [
    "import numpy as np\n",
    "import urllib\n",
    "import scipy.optimize\n",
    "import random\n",
    "from collections import defaultdict\n",
    "import nltk\n",
    "import string\n",
    "from nltk.stem.porter import *\n",
    "from sklearn import linear_model\n",
    "import pickle\n",
    "import json as js"
   ]
  },
  {
   "cell_type": "code",
   "execution_count": 4,
   "metadata": {},
   "outputs": [],
   "source": [
    "def parseData(fname):\n",
    "    for l in open(fname):\n",
    "        yield eval(l)"
   ]
  },
  {
   "cell_type": "code",
   "execution_count": 5,
   "metadata": {},
   "outputs": [
    {
     "name": "stdout",
     "output_type": "stream",
     "text": [
      "Reading data...\n",
      "done\n"
     ]
    }
   ],
   "source": [
    "print(\"Reading data...\")\n",
    "dataReview = list(parseData(\"yelp_training_set_review.json\"))\n",
    "dataBusiness = list(parseData(\"yelp_training_set_business.json\"))\n",
    "dataUser = list(parseData(\"yelp_training_set_user.json\"))\n",
    "dataCheck = list(parseData(\"yelp_training_set_checkin.json\"))\n",
    "# constructing train set and test set\n",
    "dataReviewTrain = dataReview[:100000]\n",
    "dataReviewValid = dataReview[100000:200000]\n",
    "dataReviewTest = dataReview[200000:-1]\n",
    "print(\"done\")"
   ]
  },
  {
   "cell_type": "code",
   "execution_count": 6,
   "metadata": {},
   "outputs": [],
   "source": [
    "openBusiness = defaultdict(bool)\n",
    "reviewCountBusiness = defaultdict(int)\n",
    "starsBusiness = defaultdict(float)\n",
    "longitudeBusiness = defaultdict(float)\n",
    "latitudeBusiness = defaultdict(float)\n",
    "# construct dictionary for checking by user id\n",
    "voteUser1 = defaultdict(int)\n",
    "voteUser2 = defaultdict(int)\n",
    "voteUser3 = defaultdict(int)\n",
    "reviewCountUser = defaultdict(int)\n",
    "starsUser = defaultdict(float)"
   ]
  },
  {
   "cell_type": "code",
   "execution_count": 7,
   "metadata": {},
   "outputs": [],
   "source": [
    "# store data in dict\n",
    "sum = 0\n",
    "count = 0\n",
    "for d in dataBusiness:\n",
    "    id = d['business_id']\n",
    "    openBusiness[id] = 0\n",
    "    openBusiness[id] = d['open']\n",
    "    reviewCountBusiness[id] = 20.192857762\n",
    "    reviewCountBusiness[id] = d['review_count']\n",
    "    starsBusiness[id] = 3.67452543989\n",
    "    starsBusiness[id] = d['stars']\n",
    "    longitudeBusiness[id] = -111.98889452\n",
    "    longitudeBusiness[id] = d['longitude']\n",
    "    latitudeBusiness[id] = 33.4878330886\n",
    "    latitudeBusiness[id] = d['latitude']"
   ]
  },
  {
   "cell_type": "code",
   "execution_count": 8,
   "metadata": {},
   "outputs": [
    {
     "name": "stdout",
     "output_type": "stream",
     "text": [
      "avg = 3.7440783625464458\n"
     ]
    }
   ],
   "source": [
    "for d in dataUser:\n",
    "    uid = d['user_id']\n",
    "    voteUser1[uid] = 0\n",
    "    voteUser1[uid] = d['votes']['funny']\n",
    "    voteUser2[uid] = 0\n",
    "    voteUser2[uid] = d['votes']['useful']\n",
    "    voteUser3[uid] = 0\n",
    "    voteUser3[uid] = d['votes']['cool']\n",
    "    reviewCountUser[uid] = 0\n",
    "    reviewCountUser[uid] = d['review_count']\n",
    "    starsUser[uid] = 0\n",
    "    starsUser[uid] = d['average_stars']\n",
    "\n",
    "    sum += d['average_stars']\n",
    "    count += 1\n",
    "avg = sum * 1.0 / count\n",
    "print(\"avg = \" + str(avg))"
   ]
  },
  {
   "cell_type": "code",
   "execution_count": 9,
   "metadata": {},
   "outputs": [],
   "source": [
    "def feature(datum):\n",
    "    user_id = datum['user_id']\n",
    "    business_id = datum['business_id']\n",
    "    openInfo = openBusiness[business_id]\n",
    "    reviewCountInfo = reviewCountBusiness[business_id]\n",
    "    starsBusinessInfo = starsBusiness[business_id]\n",
    "    # longitudeInfo = longitudeBusiness[business_id]\n",
    "    # latitudeInfo = latitudeBusiness[business_id]\n",
    "    reviewCountUserInfo = reviewCountUser[user_id]\n",
    "    voteUser1Info = voteUser1[user_id]\n",
    "    voteUser2Info = voteUser2[user_id]\n",
    "    voteUser3Info = voteUser3[user_id]\n",
    "    starsUserInfo = starsUser[user_id]\n",
    "    feat = [1]\n",
    "    feat.append(datum['votes']['funny'])\n",
    "    feat.append(datum['votes']['useful'])\n",
    "    feat.append(datum['votes']['cool'])\n",
    "    feat.append(openInfo)\n",
    "    feat.append(reviewCountInfo)\n",
    "    feat.append(starsBusinessInfo)\n",
    "    # feat.append(longitudeInfo)\n",
    "    # feat.append(latitudeInfo)\n",
    "    feat.append(reviewCountUserInfo)\n",
    "    feat.append(voteUser1Info)\n",
    "    feat.append(voteUser2Info)\n",
    "    feat.append(voteUser3Info)\n",
    "    feat.append(starsUserInfo)\n",
    "    return feat"
   ]
  },
  {
   "cell_type": "code",
   "execution_count": 10,
   "metadata": {},
   "outputs": [],
   "source": [
    "X = [feature(d) for d in dataReviewTrain]\n",
    "y = [d['stars'] for d in dataReviewTrain]"
   ]
  },
  {
   "cell_type": "code",
   "execution_count": 11,
   "metadata": {},
   "outputs": [
    {
     "name": "stdout",
     "output_type": "stream",
     "text": [
      "MSE for train set  = 1.0611380506153054\n",
      "theta = [-3.00361418e-01 -9.51710976e-02 -1.30579810e-01  2.18866583e-01\n",
      "  3.46756953e-02  4.50505284e-05  8.65405069e-01 -1.63544619e-04\n",
      " -6.58029159e-09 -1.45438007e-04  1.91796768e-04  2.39194124e-01]\n"
     ]
    }
   ],
   "source": [
    "def calMSE(x, y):\n",
    "    sum = 0\n",
    "    for i in range(0,len(y)):\n",
    "     sum += (y[i]-x[i])**2\n",
    "    mse = sum*1.0/len(y)\n",
    "    return mse\n",
    "#With regularization\n",
    "clf = linear_model.Ridge(0.01, fit_intercept=False)\n",
    "clf.fit(X, y)\n",
    "theta = clf.coef_\n",
    "predictions = clf.predict(X)\n",
    "print (\"MSE for train set  = \" + str(calMSE(predictions, y)))\n",
    "print (\"theta = \" + str(theta))"
   ]
  },
  {
   "cell_type": "code",
   "execution_count": 12,
   "metadata": {},
   "outputs": [],
   "source": [
    "def featureTest(d):\n",
    "    business_id = d['business_id']\n",
    "    user_id = d['user_id']\n",
    "    openInfo = openBusiness[business_id]\n",
    "    reviewCountInfo = reviewCountBusiness[business_id]\n",
    "    starsBusinessInfo = starsBusiness[business_id]\n",
    "    # longitudeInfo = longitudeBusiness[business_id]\n",
    "    # latitudeInfo = latitudeBusiness[business_id]\n",
    "    reviewCountUserInfo = reviewCountUser[user_id]\n",
    "    voteUser1Info = voteUser1[user_id]\n",
    "    voteUser2Info = voteUser2[user_id]\n",
    "    voteUser3Info = voteUser3[user_id]\n",
    "    starsUserInfo = starsUser[user_id]\n",
    "    feat = [1]\n",
    "    feat.append(d['votes']['funny'])\n",
    "    feat.append(d['votes']['useful'])\n",
    "    feat.append(d['votes']['cool'])\n",
    "    feat.append(openInfo)\n",
    "    feat.append(reviewCountInfo)\n",
    "    feat.append(starsBusinessInfo)\n",
    "    # feat.append(longitudeInfo)\n",
    "    # feat.append(latitudeInfo)\n",
    "    feat.append(reviewCountUserInfo)\n",
    "    feat.append(voteUser1Info)\n",
    "    feat.append(voteUser2Info)\n",
    "    feat.append(voteUser3Info)\n",
    "    feat.append(starsUserInfo)\n",
    "    return feat"
   ]
  },
  {
   "cell_type": "code",
   "execution_count": 13,
   "metadata": {},
   "outputs": [],
   "source": [
    "X_test = [feature(d) for d in dataReviewTest]\n",
    "y_test = [d['stars'] for d in dataReviewTest]\n",
    "X_valid = [feature(d) for d in dataReviewValid]\n",
    "y_valid = [d['stars'] for d in dataReviewValid]\n",
    "X_test = np.matrix(X_test)\n",
    "y_test = np.matrix(y_test)\n",
    "theta = np.matrix(theta)\n",
    "X_valid = np.matrix(X_valid)\n",
    "y_valid = np.matrix(y_valid)"
   ]
  },
  {
   "cell_type": "code",
   "execution_count": 14,
   "metadata": {},
   "outputs": [],
   "source": [
    "def mse(X,y,theta):\n",
    "    sum=0\n",
    "    M = y.T - X * (theta.T)\n",
    "    for i in range(y.shape[1]):\n",
    "        sum+=M[i]**2\n",
    "    return sum/y.shape[1]"
   ]
  },
  {
   "cell_type": "code",
   "execution_count": 15,
   "metadata": {},
   "outputs": [
    {
     "name": "stdout",
     "output_type": "stream",
     "text": [
      "MSE for test set  = [[1.0665851]]\n",
      "MSE for valid set  = [[1.05598443]]\n"
     ]
    }
   ],
   "source": [
    "print(\"MSE for test set  = \" + str(mse(X_test, y_test,theta)))\n",
    "print(\"MSE for valid set  = \" + str(mse(X_valid, y_valid,theta)))"
   ]
  },
  {
   "cell_type": "code",
   "execution_count": null,
   "metadata": {},
   "outputs": [],
   "source": []
  },
  {
   "cell_type": "code",
   "execution_count": null,
   "metadata": {},
   "outputs": [],
   "source": []
  },
  {
   "cell_type": "code",
   "execution_count": null,
   "metadata": {},
   "outputs": [],
   "source": []
  }
 ],
 "metadata": {
  "kernelspec": {
   "display_name": "Python 3",
   "language": "python",
   "name": "python3"
  },
  "language_info": {
   "codemirror_mode": {
    "name": "ipython",
    "version": 3
   },
   "file_extension": ".py",
   "mimetype": "text/x-python",
   "name": "python",
   "nbconvert_exporter": "python",
   "pygments_lexer": "ipython3",
   "version": "3.6.4"
  }
 },
 "nbformat": 4,
 "nbformat_minor": 2
}
