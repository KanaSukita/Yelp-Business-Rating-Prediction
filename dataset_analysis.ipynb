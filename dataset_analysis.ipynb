{
 "cells": [
  {
   "cell_type": "code",
   "execution_count": 1,
   "metadata": {
    "collapsed": true
   },
   "outputs": [],
   "source": [
    "import numpy\n",
    "import gzip\n",
    "from collections import defaultdict\n",
    "import scipy.optimize\n",
    "import random\n",
    "from math import exp\n",
    "from math import log\n",
    "from sklearn import svm\n",
    "import matplotlib.pyplot as plt  "
   ]
  },
  {
   "cell_type": "code",
   "execution_count": 2,
   "metadata": {
    "collapsed": true
   },
   "outputs": [],
   "source": [
    "def parseData(fname):\n",
    "  for l in open(fname):\n",
    "    yield eval(l)"
   ]
  },
  {
   "cell_type": "code",
   "execution_count": 3,
   "metadata": {
    "scrolled": true
   },
   "outputs": [
    {
     "name": "stdout",
     "output_type": "stream",
     "text": [
      "Reading data...\n",
      "done\n"
     ]
    }
   ],
   "source": [
    "print \"Reading data...\"\n",
    "reviewdata = list(parseData(\"yelp_training_set_review.json\"))\n",
    "checkindata = list(parseData(\"yelp_training_set_checkin.json\"))\n",
    "userdata = list(parseData(\"yelp_training_set_user.json\"))\n",
    "businessdata = list(parseData(\"yelp_training_set_business.json\"))\n",
    "print \"done\""
   ]
  },
  {
   "cell_type": "code",
   "execution_count": 4,
   "metadata": {
    "scrolled": true
   },
   "outputs": [],
   "source": [
    "# Divide the review data\n",
    "train_data = reviewdata[:200000]\n",
    "test_data = reviewdata[200000:]"
   ]
  },
  {
   "cell_type": "code",
   "execution_count": 5,
   "metadata": {},
   "outputs": [
    {
     "data": {
      "text/plain": [
       "43873"
      ]
     },
     "execution_count": 5,
     "metadata": {},
     "output_type": "execute_result"
    }
   ],
   "source": [
    "len(userdata)"
   ]
  },
  {
   "cell_type": "code",
   "execution_count": 88,
   "metadata": {
    "collapsed": true
   },
   "outputs": [],
   "source": [
    "ratings = [0]*6\n",
    "for r in reviewdata:\n",
    "    if r['stars'] == 0:\n",
    "        ratings[0] += 1\n",
    "    if r['stars'] == 1:\n",
    "        ratings[1] += 1\n",
    "    if r['stars'] == 2:\n",
    "        ratings[2] += 1\n",
    "    if r['stars'] == 3:\n",
    "        ratings[3] += 1\n",
    "    if r['stars'] == 4:\n",
    "        ratings[4] += 1\n",
    "    if r['stars'] == 5:\n",
    "        ratings[5] += 1"
   ]
  },
  {
   "cell_type": "code",
   "execution_count": 17,
   "metadata": {},
   "outputs": [],
   "source": [
    "X = [0.9,1.9,2.9,3.9,4.9]"
   ]
  },
  {
   "cell_type": "code",
   "execution_count": 18,
   "metadata": {},
   "outputs": [
    {
     "data": {
      "text/plain": [
       "[17516, 20957, 35363, 79878, 76193]"
      ]
     },
     "execution_count": 18,
     "metadata": {},
     "output_type": "execute_result"
    }
   ],
   "source": [
    "ratings"
   ]
  },
  {
   "cell_type": "code",
   "execution_count": 21,
   "metadata": {
    "scrolled": false
   },
   "outputs": [
    {
     "data": {
      "image/png": "[encoded data removed]",
      "text/plain": [
       "<matplotlib.figure.Figure at 0x13447cf90>"
      ]
     },
     "metadata": {},
     "output_type": "display_data"
    }
   ],
   "source": [
    "fig = plt.figure()  \n",
    "plt.bar(X,ratings,0.2,color=\"blue\")  \n",
    "plt.xlabel(\"star\")\n",
    "plt.ylabel(\"number\")\n",
    "plt.title(\"star distribution\")\n",
    "plt.show()"
   ]
  },
  {
   "cell_type": "code",
   "execution_count": 33,
   "metadata": {
    "scrolled": false
   },
   "outputs": [],
   "source": [
    "year = []\n",
    "for r in reviewdata:\n",
    "    time = r['date'].split('-')\n",
    "    year.append(int(time[0]))"
   ]
  },
  {
   "cell_type": "code",
   "execution_count": 51,
   "metadata": {
    "scrolled": true
   },
   "outputs": [],
   "source": [
    "stars = [0]*9\n",
    "length = [0]*9\n",
    "for y in reviewdata:\n",
    "    time = y['date'].split('-')\n",
    "    year = int(time[0])\n",
    "    stars[year-2005] += y['stars'] \n",
    "    length[year-2005] += 1 "
   ]
  },
  {
   "cell_type": "code",
   "execution_count": 52,
   "metadata": {},
   "outputs": [],
   "source": [
    "nian = range(2005, 2014)\n",
    "for i in range(len(stars)):\n",
    "    stars[i] = stars[i]*1.0/length[i]"
   ]
  },
  {
   "cell_type": "code",
   "execution_count": 53,
   "metadata": {
    "scrolled": true
   },
   "outputs": [
    {
     "data": {
      "text/plain": [
       "[4.138613861386139,\n",
       " 3.770559210526316,\n",
       " 3.831209713686104,\n",
       " 3.7355260061190867,\n",
       " 3.7203615497130857,\n",
       " 3.7721923375067536,\n",
       " 3.7812720349739104,\n",
       " 3.7690188448812076,\n",
       " 3.7467309015829318]"
      ]
     },
     "execution_count": 53,
     "metadata": {},
     "output_type": "execute_result"
    }
   ],
   "source": [
    "stars"
   ]
  },
  {
   "cell_type": "code",
   "execution_count": 54,
   "metadata": {
    "scrolled": false
   },
   "outputs": [
    {
     "data": {
      "image/png": "[encoded data removed]",
      "text/plain": [
       "<matplotlib.figure.Figure at 0x135243e50>"
      ]
     },
     "metadata": {},
     "output_type": "display_data"
    }
   ],
   "source": [
    "fig = plt.figure()  \n",
    "plt.bar(nian,stars,0.2,color=\"blue\")  \n",
    "plt.xlabel(\"year\")\n",
    "plt.ylabel(\"average star\")\n",
    "plt.title(\"average star in each year\")\n",
    "plt.show()"
   ]
  },
  {
   "cell_type": "code",
   "execution_count": 63,
   "metadata": {
    "scrolled": true
   },
   "outputs": [],
   "source": [
    "businessCheckin = defaultdict(list)\n",
    "businessStar = defaultdict(list)\n",
    "checkinAvg = 0\n",
    "starAvg = 0\n",
    "checkin = []\n",
    "\n",
    "for u in checkindata:\n",
    "    business = u['business_id']\n",
    "    nCheckin = 0\n",
    "    for t in u['checkin_info']:\n",
    "        nCheckin += u['checkin_info'][t]\n",
    "    businessCheckin[business] = nCheckin\n",
    "    checkin.append(nCheckin)\n",
    "    checkinAvg += nCheckin\n",
    "    \n",
    "for u in businessdata:\n",
    "    business = u['business_id']\n",
    "    businessStar[business] = u['stars']\n",
    "    starAvg += u['stars']\n",
    "    \n",
    "starAvg /= len(businessdata)\n",
    "checkinAvg /= len(checkindata)"
   ]
  },
  {
   "cell_type": "code",
   "execution_count": 69,
   "metadata": {},
   "outputs": [],
   "source": [
    "star = [0]*5\n",
    "long = [0]*5\n",
    "for u in businessCheckin:\n",
    "    if businessCheckin[u] < 1000:\n",
    "        if u in businessStar:\n",
    "            star[0] += businessStar[u]\n",
    "        else:\n",
    "            star[0] += starAvg\n",
    "        long[0] +=1\n",
    "    if businessCheckin[u] < 2000 and businessCheckin[u] > 999:\n",
    "        if u in businessStar:\n",
    "            star[1] += businessStar[u]\n",
    "        else:\n",
    "            star[1] += starAvg\n",
    "        long[1] +=1\n",
    "    if businessCheckin[u] < 3000 and businessCheckin[u] > 1999:\n",
    "        if u in businessStar:\n",
    "            star[2] += businessStar[u]\n",
    "        else:\n",
    "            star[2] += starAvg\n",
    "        long[2] +=1\n",
    "    if businessCheckin[u] < 4000 and businessCheckin[u] > 2999:\n",
    "        if u in businessStar:\n",
    "            star[3] += businessStar[u]\n",
    "        else:\n",
    "            star[3] += starAvg\n",
    "        long[3] +=1\n",
    "    if businessCheckin[u] > 3999:\n",
    "        if u in businessStar:\n",
    "            star[4] += businessStar[u]\n",
    "        else:\n",
    "            star[4] += starAvg\n",
    "        long[4] +=1"
   ]
  },
  {
   "cell_type": "code",
   "execution_count": 70,
   "metadata": {},
   "outputs": [],
   "source": [
    "for i in range(5):\n",
    "    star[i] /= long[i]"
   ]
  },
  {
   "cell_type": "code",
   "execution_count": 78,
   "metadata": {},
   "outputs": [],
   "source": [
    "x = [0,1000, 2000, 3000, 4000]"
   ]
  },
  {
   "cell_type": "raw",
   "metadata": {},
   "source": []
  },
  {
   "cell_type": "code",
   "execution_count": 81,
   "metadata": {
    "scrolled": true
   },
   "outputs": [
    {
     "data": {
      "image/png": "[encoded data removed]",
      "text/plain": [
       "<matplotlib.figure.Figure at 0x133e29810>"
      ]
     },
     "metadata": {},
     "output_type": "display_data"
    }
   ],
   "source": [
    "fig = plt.figure()  \n",
    "plt.bar(x,star,1000,color=\"blue\")\n",
    "group_labels = ['0','1000','2000','3000','4000','22907']\n",
    "plt.xticks(x, group_labels, rotation=0) \n",
    "plt.xlabel(\"number of checkin\")\n",
    "plt.ylabel(\"average star\")\n",
    "plt.title(\"average star in each checkin bin\")\n",
    "plt.show()"
   ]
  },
  {
   "cell_type": "code",
   "execution_count": 76,
   "metadata": {},
   "outputs": [
    {
     "ename": "SyntaxError",
     "evalue": "invalid syntax (<ipython-input-76-c3c07b271650>, line 3)",
     "output_type": "error",
     "traceback": [
      "\u001b[0;36m  File \u001b[0;32m\"<ipython-input-76-c3c07b271650>\"\u001b[0;36m, line \u001b[0;32m3\u001b[0m\n\u001b[0;31m    group_labels = ['0','1000','2000','3000','4000'，'22907']\u001b[0m\n\u001b[0m                                                   ^\u001b[0m\n\u001b[0;31mSyntaxError\u001b[0m\u001b[0;31m:\u001b[0m invalid syntax\n"
     ]
    }
   ],
   "source": [
    "fig = plt.figure()  \n",
    "plt.plot(x,star)\n",
    "group_labels = ['0','1000','2000','3000','4000']\n",
    "plt.xticks(x, group_labels, rotation=0) \n",
    "plt.show()"
   ]
  },
  {
   "cell_type": "code",
   "execution_count": 84,
   "metadata": {
    "scrolled": true
   },
   "outputs": [
    {
     "data": {
      "text/plain": [
       "22977"
      ]
     },
     "execution_count": 84,
     "metadata": {},
     "output_type": "execute_result"
    }
   ],
   "source": [
    "max(checkin)"
   ]
  },
  {
   "cell_type": "code",
   "execution_count": 114,
   "metadata": {
    "scrolled": true
   },
   "outputs": [],
   "source": [
    "count = []\n",
    "star = []\n",
    "for u in businessdata:\n",
    "    count.append(u['review_count'])\n",
    "    star.append(u['stars'])\n"
   ]
  },
  {
   "cell_type": "code",
   "execution_count": 115,
   "metadata": {
    "scrolled": true
   },
   "outputs": [],
   "source": [
    "haha = [0]*6\n",
    "wocao = [0]*6\n",
    "for i in range(len(count)):\n",
    "    if count[i] < 151:\n",
    "        haha[0] += star[i]\n",
    "        wocao[0] +=1\n",
    "    if count[i] < 301 and count [i] > 150:\n",
    "        haha[1] += star[i]\n",
    "        wocao[1] +=1\n",
    "    if count[i] < 451 and count [i] > 300:\n",
    "        haha[2] += star[i]\n",
    "        wocao[2] +=1\n",
    "    if count[i] < 601 and count [i] > 450:\n",
    "        haha[3] += star[i]\n",
    "        wocao[3] +=1\n",
    "    if count[i] < 751 and count [i] > 600:\n",
    "        haha[4] += star[i]\n",
    "        wocao[4] +=1\n",
    "    if count [i] > 750:\n",
    "        haha[5] += star[i]\n",
    "        wocao[5] +=1"
   ]
  },
  {
   "cell_type": "code",
   "execution_count": 117,
   "metadata": {},
   "outputs": [],
   "source": [
    "for i in range(6):\n",
    "    haha[i] /= wocao[i]"
   ]
  },
  {
   "cell_type": "code",
   "execution_count": 119,
   "metadata": {},
   "outputs": [],
   "source": [
    "x= [0,150,300,450,600,750]"
   ]
  },
  {
   "cell_type": "code",
   "execution_count": 123,
   "metadata": {
    "scrolled": true
   },
   "outputs": [
    {
     "data": {
      "image/png": "[encoded data removed]",
      "text/plain": [
       "<matplotlib.figure.Figure at 0x135a33e10>"
      ]
     },
     "metadata": {},
     "output_type": "display_data"
    }
   ],
   "source": [
    "fig = plt.figure()  \n",
    "plt.bar(x,haha,150,color=\"blue\")\n",
    "group_labels = ['0','150','300','450','600','750','862']\n",
    "plt.xticks(x, group_labels, rotation=0) \n",
    "plt.xlabel(\"number of business review count\")\n",
    "plt.ylabel(\"average star\")\n",
    "plt.title(\"average star in each business review count bin\")\n",
    "plt.show()"
   ]
  },
  {
   "cell_type": "code",
   "execution_count": 5,
   "metadata": {},
   "outputs": [],
   "source": [
    "trainReview = []\n",
    "trainStar = []\n",
    "for r in train_data:\n",
    "    user, business = r['user_id'], r['business_id']\n",
    "    trainReview.append(len(r['text'].split()))\n",
    "    trainStar.append(r['stars'])"
   ]
  },
  {
   "cell_type": "code",
   "execution_count": 11,
   "metadata": {},
   "outputs": [],
   "source": [
    "haha = [0]*7\n",
    "wocao = [0]*7\n",
    "for i in range(len(trainReview)):\n",
    "    if trainReview[i] < 151:\n",
    "        haha[0] += trainStar[i]\n",
    "        wocao[0] +=1\n",
    "    if trainReview[i] < 301 and trainReview[i] > 150:\n",
    "        haha[1] += trainStar[i]\n",
    "        wocao[1] +=1\n",
    "    if trainReview[i] < 451 and trainReview[i] > 300:\n",
    "        haha[2] += trainStar[i]\n",
    "        wocao[2] +=1\n",
    "    if trainReview[i] < 601 and trainReview[i] > 450:\n",
    "        haha[3] += trainStar[i]\n",
    "        wocao[3] +=1\n",
    "    if trainReview[i] < 751 and trainReview[i] > 600:\n",
    "        haha[4] += trainStar[i]\n",
    "        wocao[4] +=1 \n",
    "    if trainReview[i] < 901 and trainReview[i] > 750:\n",
    "        haha[5] += trainStar[i]\n",
    "        wocao[5] +=1\n",
    "    if trainReview[i] > 900:\n",
    "        haha[6] += trainStar[i]\n",
    "        wocao[6] +=1"
   ]
  },
  {
   "cell_type": "code",
   "execution_count": 12,
   "metadata": {
    "collapsed": true
   },
   "outputs": [],
   "source": [
    "for i in range(7):\n",
    "    haha[i] = haha[i]*1.0/ wocao[i]"
   ]
  },
  {
   "cell_type": "code",
   "execution_count": 15,
   "metadata": {},
   "outputs": [],
   "source": [
    "x= [0,150,300,450,600,750,900]"
   ]
  },
  {
   "cell_type": "code",
   "execution_count": 18,
   "metadata": {
    "scrolled": true
   },
   "outputs": [
    {
     "data": {
      "image/png": "[encoded data removed]",
      "text/plain": [
       "<matplotlib.figure.Figure at 0x134cca210>"
      ]
     },
     "metadata": {},
     "output_type": "display_data"
    }
   ],
   "source": [
    "fig = plt.figure()  \n",
    "plt.bar(x,haha,150,color=\"blue\")\n",
    "group_labels = ['0','150','300','450','600','750','900','1006']\n",
    "plt.xticks(x, group_labels, rotation=0) \n",
    "plt.xlabel(\"number of review words\")\n",
    "plt.ylabel(\"average star\")\n",
    "plt.title(\"average star in each review words bin\")\n",
    "plt.show()"
   ]
  },
  {
   "cell_type": "code",
   "execution_count": null,
   "metadata": {
    "collapsed": true
   },
   "outputs": [],
   "source": []
  },
  {
   "cell_type": "code",
   "execution_count": null,
   "metadata": {
    "collapsed": true
   },
   "outputs": [],
   "source": []
  },
  {
   "cell_type": "code",
   "execution_count": null,
   "metadata": {
    "collapsed": true
   },
   "outputs": [],
   "source": []
  }
 ],
 "metadata": {
  "anaconda-cloud": {},
  "kernelspec": {
   "display_name": "Python 3",
   "language": "python",
   "name": "python3"
  },
  "language_info": {
   "codemirror_mode": {
    "name": "ipython",
    "version": 3
   },
   "file_extension": ".py",
   "mimetype": "text/x-python",
   "name": "python",
   "nbconvert_exporter": "python",
   "pygments_lexer": "ipython3",
   "version": "3.6.4"
  }
 },
 "nbformat": 4,
 "nbformat_minor": 1
}
